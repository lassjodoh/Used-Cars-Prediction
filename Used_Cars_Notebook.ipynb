{
 "cells": [
  {
   "cell_type": "markdown",
   "id": "b8ec4234",
   "metadata": {},
   "source": [
    "### Background\n",
    "\n",
    "There is a huge demand for used cars in the Indian Market today. As sales of new cars have slowed down in the recent past, the pre-owned car market has continued to grow over the past years and is larger than the new car market now. Cars4U is a budding tech start-up that aims to find footholes in this market.\n",
    "\n",
    "In 2018-19, while new car sales were recorded at 3.6 million units, around 4 million second-hand cars were bought and sold. There is a slowdown in new car sales and that could mean that the demand is shifting towards the pre-owned market. In fact, some car sellers replace their old cars with pre-owned cars instead of buying new ones. Unlike new cars, where price and supply are fairly deterministic and managed by OEMs (Original Equipment Manufacturer / except for dealership level discounts which come into play only in the last stage of the customer journey), used cars are very different beasts with huge uncertainty in both pricing and supply. Keeping this in mind, the pricing scheme of these used cars becomes important in order to grow in the market.\n",
    "\n",
    "### Data Description\n",
    "The data contains the different attributes of used cars sold in different locations. The detailed data dictionary is given below.\n",
    "\n",
    "##### Data Dictionary\n",
    "\n",
    "+ S.No.: Serial number\n",
    "+ Name: Name of the car which includes brand name and model name\n",
    "+ Location: Location in which the car is being sold or is available for purchase\n",
    "+ Year: Manufacturing year of the car\n",
    "+ Kilometers_driven: The total kilometers (a unit used to measure length or distance) driven in the car by the previous owner(s)\n",
    "+ Fuel_Type: The type of fuel used by the car (Petrol, Diesel, Electric, CNG, LPG)\n",
    "+ Transmission: The type of transmission used by the car (Automatic/Manual)\n",
    "+ Owner: Type of ownership\n",
    "+ Mileage: The standard mileage offered by the car company in kmpl or km/kg\n",
    "+ Engine: The displacement volume of the engine in CC\n",
    "+ Power: The maximum power of the engine in bhp\n",
    "+ Seats: The number of seats in the car\n",
    "+ New_Price: The price of a new car of the same model in dollars\n",
    "+ Price: The price of the used car in dollars\n",
    "\n",
    "\n",
    "#### Objective\n",
    "+ To develop a pricing model that can effectively predict the price of used cars and can help the business in devising profitable strategies using differential pricing. For example, if the business knows the market price, it will never sell anything below it.\n",
    "+ To explore and visualize the dataset, build a linear regression model to predict the prices of used cars, and generate a set of insights and recommendations that will help the business."
   ]
  },
  {
   "cell_type": "code",
   "execution_count": 1,
   "id": "1fd20667",
   "metadata": {},
   "outputs": [],
   "source": [
    "# Importing necessary libraries to read csv\n",
    "import numpy as np\n",
    "import pandas as pd\n",
    "import csv\n",
    "\n",
    "# Libraries to help with visualization\n",
    "import matplotlib.pyplot as plt\n",
    "import seaborn as sns\n",
    "\n",
    "sns.set()\n",
    "\n",
    "# Displays all columns and rows in data\n",
    "pd.set_option(\"display.max_columns\", None)\n",
    "pd.set_option(\"display.max_rows\", 200)\n",
    "\n",
    "# to split the data into train and test\n",
    "from sklearn.model_selection import train_test_split\n",
    "\n",
    "# Linear regression_model\n",
    "from sklearn.linear_model import LinearRegression\n",
    "\n",
    "# Libraries for Model performance\n",
    "from sklearn.metrics import mean_absolute_error, mean_squared_error, r2_score"
   ]
  },
  {
   "cell_type": "code",
   "execution_count": 2,
   "id": "551c3616",
   "metadata": {},
   "outputs": [],
   "source": [
    "# Input in Data into the notebook\n",
    "df = pd.read_csv('used_cars_data-1.csv')"
   ]
  },
  {
   "cell_type": "code",
   "execution_count": 3,
   "id": "118f947c",
   "metadata": {},
   "outputs": [
    {
     "name": "stdout",
     "output_type": "stream",
     "text": [
      "<class 'pandas.core.frame.DataFrame'>\n",
      "RangeIndex: 7253 entries, 0 to 7252\n",
      "Data columns (total 14 columns):\n",
      " #   Column             Non-Null Count  Dtype  \n",
      "---  ------             --------------  -----  \n",
      " 0   S.No.              7253 non-null   int64  \n",
      " 1   Name               7253 non-null   object \n",
      " 2   Location           7253 non-null   object \n",
      " 3   Year               7253 non-null   int64  \n",
      " 4   Kilometers_Driven  7253 non-null   int64  \n",
      " 5   Fuel_Type          7253 non-null   object \n",
      " 6   Transmission       7253 non-null   object \n",
      " 7   Owner_Type         7253 non-null   object \n",
      " 8   Mileage            7251 non-null   object \n",
      " 9   Engine             7207 non-null   object \n",
      " 10  Power              7078 non-null   object \n",
      " 11  Seats              7200 non-null   float64\n",
      " 12  New_Price          7253 non-null   float64\n",
      " 13  Price              6019 non-null   float64\n",
      "dtypes: float64(3), int64(3), object(8)\n",
      "memory usage: 793.4+ KB\n"
     ]
    }
   ],
   "source": [
    "df.info() #View more information on the variable in the data"
   ]
  },
  {
   "cell_type": "code",
   "execution_count": 4,
   "id": "4a23fddb",
   "metadata": {},
   "outputs": [
    {
     "data": {
      "text/plain": [
       "S.No.                   0\n",
       "Name                    0\n",
       "Location                0\n",
       "Year                    0\n",
       "Kilometers_Driven       0\n",
       "Fuel_Type               0\n",
       "Transmission            0\n",
       "Owner_Type              0\n",
       "Mileage                 2\n",
       "Engine                 46\n",
       "Power                 175\n",
       "Seats                  53\n",
       "New_Price               0\n",
       "Price                1234\n",
       "dtype: int64"
      ]
     },
     "execution_count": 4,
     "metadata": {},
     "output_type": "execute_result"
    }
   ],
   "source": [
    "df.isna().sum() #Figure out if there exists missing entries in our data"
   ]
  },
  {
   "cell_type": "markdown",
   "id": "e2701d81",
   "metadata": {},
   "source": [
    "We notice that the engine Capacity, Power of the Vehicle, seats in a vehicle and the Price of the Vehicle have missing values"
   ]
  },
  {
   "cell_type": "markdown",
   "id": "2895c0ee",
   "metadata": {},
   "source": [
    "### Data Visualisations\n",
    "+ We attempt to visualise the data to see what we can infer from it."
   ]
  },
  {
   "cell_type": "code",
   "execution_count": 5,
   "id": "be5993e4",
   "metadata": {},
   "outputs": [
    {
     "data": {
      "text/plain": [
       "<AxesSubplot:xlabel='Fuel_Type', ylabel='Year'>"
      ]
     },
     "execution_count": 5,
     "metadata": {},
     "output_type": "execute_result"
    },
    {
     "data": {
      "image/png": "[encoded data removed]",
      "text/plain": [
       "<Figure size 432x288 with 1 Axes>"
      ]
     },
     "metadata": {},
     "output_type": "display_data"
    }
   ],
   "source": [
    "sns.boxplot(x = 'Fuel_Type', y = 'Year', data = df)"
   ]
  },
  {
   "cell_type": "markdown",
   "id": "25cd7d52",
   "metadata": {},
   "source": [
    "There are more Petrol driven cars available over the years"
   ]
  },
  {
   "cell_type": "code",
   "execution_count": 6,
   "id": "5d6a72f1",
   "metadata": {},
   "outputs": [
    {
     "data": {
      "text/plain": [
       "<AxesSubplot:xlabel='Fuel_Type', ylabel='New_Price'>"
      ]
     },
     "execution_count": 6,
     "metadata": {},
     "output_type": "execute_result"
    },
    {
     "data": {
      "image/png": "[encoded data removed]",
      "text/plain": [
       "<Figure size 864x432 with 2 Axes>"
      ]
     },
     "metadata": {},
     "output_type": "display_data"
    }
   ],
   "source": [
    "f, axes = plt.subplots(1,2,figsize = (12,6))\n",
    "sns.boxplot(x='Fuel_Type',y='Price',  data=df ,ax=axes[0])\n",
    "sns.boxplot(x='Fuel_Type',y='New_Price', data=df ,ax=axes[1])"
   ]
  },
  {
   "cell_type": "markdown",
   "id": "b3163eba",
   "metadata": {},
   "source": [
    "There's no noticeable effect of the Fuel type on the price of the car"
   ]
  },
  {
   "cell_type": "code",
   "execution_count": 7,
   "id": "1d4f5b34",
   "metadata": {},
   "outputs": [
    {
     "data": {
      "text/plain": [
       "<AxesSubplot:xlabel='Transmission', ylabel='New_Price'>"
      ]
     },
     "execution_count": 7,
     "metadata": {},
     "output_type": "execute_result"
    },
    {
     "data": {
      "image/png": "[encoded data removed]",
      "text/plain": [
       "<Figure size 864x432 with 2 Axes>"
      ]
     },
     "metadata": {},
     "output_type": "display_data"
    }
   ],
   "source": [
    "f, axes = plt.subplots(1,2,figsize = (12,6))\n",
    "sns.boxplot(x='Transmission',y='Price',  data=df ,ax=axes[0])\n",
    "sns.boxplot(x='Transmission',y='New_Price', data=df ,ax=axes[1])"
   ]
  },
  {
   "cell_type": "markdown",
   "id": "11b0b18a",
   "metadata": {},
   "source": [
    "More Automatic vehicles are in use compared to manual in both old and new vehicles. Yet, we notice a slight price decrease in the price of manual old cars meaning it may have a slight effect in the price"
   ]
  },
  {
   "cell_type": "code",
   "execution_count": 8,
   "id": "70efdebe",
   "metadata": {},
   "outputs": [
    {
     "data": {
      "text/plain": [
       "<AxesSubplot:xlabel='Seats', ylabel='New_Price'>"
      ]
     },
     "execution_count": 8,
     "metadata": {},
     "output_type": "execute_result"
    },
    {
     "data": {
      "image/png": "[encoded data removed]",
      "text/plain": [
       "<Figure size 864x432 with 2 Axes>"
      ]
     },
     "metadata": {},
     "output_type": "display_data"
    }
   ],
   "source": [
    "f, axes = plt.subplots(1,2,figsize = (12,6))\n",
    "sns.boxplot(x='Seats',y='Price',  data=df ,ax=axes[0])\n",
    "sns.boxplot(x='Seats',y='New_Price', data=df ,ax=axes[1])"
   ]
  },
  {
   "cell_type": "markdown",
   "id": "2f6e00a4",
   "metadata": {},
   "source": [
    "We notice based from the boxplot that there are more 2 - 5 seater vehicles available and in the market."
   ]
  },
  {
   "cell_type": "code",
   "execution_count": 9,
   "id": "8ebb086e",
   "metadata": {},
   "outputs": [
    {
     "data": {
      "text/plain": [
       "<AxesSubplot:xlabel='Year', ylabel='New_Price'>"
      ]
     },
     "execution_count": 9,
     "metadata": {},
     "output_type": "execute_result"
    },
    {
     "data": {
      "image/png": "[encoded data removed]",
      "text/plain": [
       "<Figure size 864x432 with 2 Axes>"
      ]
     },
     "metadata": {},
     "output_type": "display_data"
    }
   ],
   "source": [
    "f, axes = plt.subplots(1,2,figsize = (12,6))\n",
    "sns.scatterplot(x='Year',y='Price',  data=df ,ax=axes[0])\n",
    "sns.scatterplot(x='Year',y='New_Price', data=df ,ax=axes[1])"
   ]
  },
  {
   "cell_type": "markdown",
   "id": "ca378372",
   "metadata": {},
   "source": [
    "Based on the graphs, \n",
    "+ The price of the vehicle seem to get higher as the years go by, whereas this isn't significantly noticed in New cars "
   ]
  },
  {
   "cell_type": "code",
   "execution_count": 10,
   "id": "b92bf842",
   "metadata": {},
   "outputs": [
    {
     "data": {
      "text/plain": [
       "<AxesSubplot:xlabel='New_Price', ylabel='Name'>"
      ]
     },
     "execution_count": 10,
     "metadata": {},
     "output_type": "execute_result"
    },
    {
     "data": {
      "image/png": "[encoded data removed]",
      "text/plain": [
       "<Figure size 1296x1080 with 4 Axes>"
      ]
     },
     "metadata": {},
     "output_type": "display_data"
    }
   ],
   "source": [
    "f, axes = plt.subplots(2,2,figsize = (18,15))\n",
    "sns.boxplot(x='Price',y='Location',  data=df ,ax=axes[0,0])\n",
    "sns.boxplot(x='New_Price',y='Location', data=df ,ax=axes[0,1])\n",
    "sns.boxplot(x='Price',y=df['Name'].apply(lambda x: x.split(\" \")[0]), data=df ,ax=axes[1,0])\n",
    "sns.boxplot(x='New_Price',y=df['Name'].apply(lambda x: x.split(\" \")[0]), data=df ,ax=axes[1,1])"
   ]
  },
  {
   "cell_type": "markdown",
   "id": "2212006b",
   "metadata": {},
   "source": [
    "+ From the data above the Location doesn't significantly affect the Price of the Vehicle.\n",
    "+ The Brand of the Vehicle seem to differ by price "
   ]
  },
  {
   "cell_type": "markdown",
   "id": "26580f95",
   "metadata": {},
   "source": [
    "### Data Transformation\n",
    "This was done to reduce dimensionality in the data to improve the accuracy of the model, thereby generating new columns in the data"
   ]
  },
  {
   "cell_type": "code",
   "execution_count": 11,
   "id": "b541ae5f",
   "metadata": {},
   "outputs": [],
   "source": [
    "#the brand of the vehicle was split based on the vehicle type\n",
    "df['Vehicle_Type'] = df['Name'].apply(lambda x: x.split(\" \")[0]) "
   ]
  },
  {
   "cell_type": "code",
   "execution_count": 12,
   "id": "bc6f5715",
   "metadata": {},
   "outputs": [],
   "source": [
    "# Because the Engine Capacity, Mileage and Power columns are of object types the data \n",
    "# is split inorder to converted to float types\n",
    "df['Engine_metric'] = df['Engine'].astype(str).apply(lambda x: x.split(\" \")[0]).astype(float)\n",
    "df['Mileage_metric'] = df['Mileage'].astype(str).apply(lambda x: x.split(\" \")[0]).astype(float)\n",
    "df['Power_metric'] = df['Power'].astype(str).apply(lambda x: x.split(\" \")[0]).astype(float)"
   ]
  },
  {
   "cell_type": "code",
   "execution_count": 13,
   "id": "64be83f7",
   "metadata": {},
   "outputs": [
    {
     "data": {
      "text/html": [
       "<div>\n",
       "<style scoped>\n",
       "    .dataframe tbody tr th:only-of-type {\n",
       "        vertical-align: middle;\n",
       "    }\n",
       "\n",
       "    .dataframe tbody tr th {\n",
       "        vertical-align: top;\n",
       "    }\n",
       "\n",
       "    .dataframe thead th {\n",
       "        text-align: right;\n",
       "    }\n",
       "</style>\n",
       "<table border=\"1\" class=\"dataframe\">\n",
       "  <thead>\n",
       "    <tr style=\"text-align: right;\">\n",
       "      <th></th>\n",
       "      <th>S.No.</th>\n",
       "      <th>Name</th>\n",
       "      <th>Location</th>\n",
       "      <th>Year</th>\n",
       "      <th>Kilometers_Driven</th>\n",
       "      <th>Fuel_Type</th>\n",
       "      <th>Transmission</th>\n",
       "      <th>Owner_Type</th>\n",
       "      <th>Mileage</th>\n",
       "      <th>Engine</th>\n",
       "      <th>Power</th>\n",
       "      <th>Seats</th>\n",
       "      <th>New_Price</th>\n",
       "      <th>Price</th>\n",
       "      <th>Vehicle_Type</th>\n",
       "      <th>Engine_metric</th>\n",
       "      <th>Mileage_metric</th>\n",
       "      <th>Power_metric</th>\n",
       "    </tr>\n",
       "  </thead>\n",
       "  <tbody>\n",
       "    <tr>\n",
       "      <th>0</th>\n",
       "      <td>0</td>\n",
       "      <td>Maruti Wagon R LXI CNG</td>\n",
       "      <td>Mumbai</td>\n",
       "      <td>2010</td>\n",
       "      <td>72000</td>\n",
       "      <td>CNG</td>\n",
       "      <td>Manual</td>\n",
       "      <td>First</td>\n",
       "      <td>26.6 km/kg</td>\n",
       "      <td>998 CC</td>\n",
       "      <td>58.16 bhp</td>\n",
       "      <td>5.0</td>\n",
       "      <td>5.51</td>\n",
       "      <td>1.75</td>\n",
       "      <td>Maruti</td>\n",
       "      <td>998.0</td>\n",
       "      <td>26.60</td>\n",
       "      <td>58.16</td>\n",
       "    </tr>\n",
       "    <tr>\n",
       "      <th>1</th>\n",
       "      <td>1</td>\n",
       "      <td>Hyundai Creta 1.6 CRDi SX Option</td>\n",
       "      <td>Pune</td>\n",
       "      <td>2015</td>\n",
       "      <td>41000</td>\n",
       "      <td>Diesel</td>\n",
       "      <td>Manual</td>\n",
       "      <td>First</td>\n",
       "      <td>19.67 kmpl</td>\n",
       "      <td>1582 CC</td>\n",
       "      <td>126.2 bhp</td>\n",
       "      <td>5.0</td>\n",
       "      <td>16.06</td>\n",
       "      <td>12.50</td>\n",
       "      <td>Hyundai</td>\n",
       "      <td>1582.0</td>\n",
       "      <td>19.67</td>\n",
       "      <td>126.20</td>\n",
       "    </tr>\n",
       "    <tr>\n",
       "      <th>2</th>\n",
       "      <td>2</td>\n",
       "      <td>Honda Jazz V</td>\n",
       "      <td>Chennai</td>\n",
       "      <td>2011</td>\n",
       "      <td>46000</td>\n",
       "      <td>Petrol</td>\n",
       "      <td>Manual</td>\n",
       "      <td>First</td>\n",
       "      <td>18.2 kmpl</td>\n",
       "      <td>1199 CC</td>\n",
       "      <td>88.7 bhp</td>\n",
       "      <td>5.0</td>\n",
       "      <td>8.61</td>\n",
       "      <td>4.50</td>\n",
       "      <td>Honda</td>\n",
       "      <td>1199.0</td>\n",
       "      <td>18.20</td>\n",
       "      <td>88.70</td>\n",
       "    </tr>\n",
       "    <tr>\n",
       "      <th>3</th>\n",
       "      <td>3</td>\n",
       "      <td>Maruti Ertiga VDI</td>\n",
       "      <td>Chennai</td>\n",
       "      <td>2012</td>\n",
       "      <td>87000</td>\n",
       "      <td>Diesel</td>\n",
       "      <td>Manual</td>\n",
       "      <td>First</td>\n",
       "      <td>20.77 kmpl</td>\n",
       "      <td>1248 CC</td>\n",
       "      <td>88.76 bhp</td>\n",
       "      <td>7.0</td>\n",
       "      <td>11.27</td>\n",
       "      <td>6.00</td>\n",
       "      <td>Maruti</td>\n",
       "      <td>1248.0</td>\n",
       "      <td>20.77</td>\n",
       "      <td>88.76</td>\n",
       "    </tr>\n",
       "    <tr>\n",
       "      <th>4</th>\n",
       "      <td>4</td>\n",
       "      <td>Audi A4 New 2.0 TDI Multitronic</td>\n",
       "      <td>Coimbatore</td>\n",
       "      <td>2013</td>\n",
       "      <td>40670</td>\n",
       "      <td>Diesel</td>\n",
       "      <td>Automatic</td>\n",
       "      <td>Second</td>\n",
       "      <td>15.2 kmpl</td>\n",
       "      <td>1968 CC</td>\n",
       "      <td>140.8 bhp</td>\n",
       "      <td>5.0</td>\n",
       "      <td>53.14</td>\n",
       "      <td>17.74</td>\n",
       "      <td>Audi</td>\n",
       "      <td>1968.0</td>\n",
       "      <td>15.20</td>\n",
       "      <td>140.80</td>\n",
       "    </tr>\n",
       "    <tr>\n",
       "      <th>...</th>\n",
       "      <td>...</td>\n",
       "      <td>...</td>\n",
       "      <td>...</td>\n",
       "      <td>...</td>\n",
       "      <td>...</td>\n",
       "      <td>...</td>\n",
       "      <td>...</td>\n",
       "      <td>...</td>\n",
       "      <td>...</td>\n",
       "      <td>...</td>\n",
       "      <td>...</td>\n",
       "      <td>...</td>\n",
       "      <td>...</td>\n",
       "      <td>...</td>\n",
       "      <td>...</td>\n",
       "      <td>...</td>\n",
       "      <td>...</td>\n",
       "      <td>...</td>\n",
       "    </tr>\n",
       "    <tr>\n",
       "      <th>7248</th>\n",
       "      <td>7248</td>\n",
       "      <td>Volkswagen Vento Diesel Trendline</td>\n",
       "      <td>Hyderabad</td>\n",
       "      <td>2011</td>\n",
       "      <td>89411</td>\n",
       "      <td>Diesel</td>\n",
       "      <td>Manual</td>\n",
       "      <td>First</td>\n",
       "      <td>20.54 kmpl</td>\n",
       "      <td>1598 CC</td>\n",
       "      <td>103.6 bhp</td>\n",
       "      <td>5.0</td>\n",
       "      <td>13.23</td>\n",
       "      <td>NaN</td>\n",
       "      <td>Volkswagen</td>\n",
       "      <td>1598.0</td>\n",
       "      <td>20.54</td>\n",
       "      <td>103.60</td>\n",
       "    </tr>\n",
       "    <tr>\n",
       "      <th>7249</th>\n",
       "      <td>7249</td>\n",
       "      <td>Volkswagen Polo GT TSI</td>\n",
       "      <td>Mumbai</td>\n",
       "      <td>2015</td>\n",
       "      <td>59000</td>\n",
       "      <td>Petrol</td>\n",
       "      <td>Automatic</td>\n",
       "      <td>First</td>\n",
       "      <td>17.21 kmpl</td>\n",
       "      <td>1197 CC</td>\n",
       "      <td>103.6 bhp</td>\n",
       "      <td>5.0</td>\n",
       "      <td>10.15</td>\n",
       "      <td>NaN</td>\n",
       "      <td>Volkswagen</td>\n",
       "      <td>1197.0</td>\n",
       "      <td>17.21</td>\n",
       "      <td>103.60</td>\n",
       "    </tr>\n",
       "    <tr>\n",
       "      <th>7250</th>\n",
       "      <td>7250</td>\n",
       "      <td>Nissan Micra Diesel XV</td>\n",
       "      <td>Kolkata</td>\n",
       "      <td>2012</td>\n",
       "      <td>28000</td>\n",
       "      <td>Diesel</td>\n",
       "      <td>Manual</td>\n",
       "      <td>First</td>\n",
       "      <td>23.08 kmpl</td>\n",
       "      <td>1461 CC</td>\n",
       "      <td>63.1 bhp</td>\n",
       "      <td>5.0</td>\n",
       "      <td>9.47</td>\n",
       "      <td>NaN</td>\n",
       "      <td>Nissan</td>\n",
       "      <td>1461.0</td>\n",
       "      <td>23.08</td>\n",
       "      <td>63.10</td>\n",
       "    </tr>\n",
       "    <tr>\n",
       "      <th>7251</th>\n",
       "      <td>7251</td>\n",
       "      <td>Volkswagen Polo GT TSI</td>\n",
       "      <td>Pune</td>\n",
       "      <td>2013</td>\n",
       "      <td>52262</td>\n",
       "      <td>Petrol</td>\n",
       "      <td>Automatic</td>\n",
       "      <td>Third</td>\n",
       "      <td>17.2 kmpl</td>\n",
       "      <td>1197 CC</td>\n",
       "      <td>103.6 bhp</td>\n",
       "      <td>5.0</td>\n",
       "      <td>10.15</td>\n",
       "      <td>NaN</td>\n",
       "      <td>Volkswagen</td>\n",
       "      <td>1197.0</td>\n",
       "      <td>17.20</td>\n",
       "      <td>103.60</td>\n",
       "    </tr>\n",
       "    <tr>\n",
       "      <th>7252</th>\n",
       "      <td>7252</td>\n",
       "      <td>Mercedes-Benz E-Class 2009-2013 E 220 CDI Avan...</td>\n",
       "      <td>Kochi</td>\n",
       "      <td>2014</td>\n",
       "      <td>72443</td>\n",
       "      <td>Diesel</td>\n",
       "      <td>Automatic</td>\n",
       "      <td>First</td>\n",
       "      <td>10.0 kmpl</td>\n",
       "      <td>2148 CC</td>\n",
       "      <td>170 bhp</td>\n",
       "      <td>5.0</td>\n",
       "      <td>86.97</td>\n",
       "      <td>NaN</td>\n",
       "      <td>Mercedes-Benz</td>\n",
       "      <td>2148.0</td>\n",
       "      <td>10.00</td>\n",
       "      <td>170.00</td>\n",
       "    </tr>\n",
       "  </tbody>\n",
       "</table>\n",
       "<p>7253 rows × 18 columns</p>\n",
       "</div>"
      ],
      "text/plain": [
       "      S.No.                                               Name    Location  \\\n",
       "0         0                             Maruti Wagon R LXI CNG      Mumbai   \n",
       "1         1                   Hyundai Creta 1.6 CRDi SX Option        Pune   \n",
       "2         2                                       Honda Jazz V     Chennai   \n",
       "3         3                                  Maruti Ertiga VDI     Chennai   \n",
       "4         4                    Audi A4 New 2.0 TDI Multitronic  Coimbatore   \n",
       "...     ...                                                ...         ...   \n",
       "7248   7248                  Volkswagen Vento Diesel Trendline   Hyderabad   \n",
       "7249   7249                             Volkswagen Polo GT TSI      Mumbai   \n",
       "7250   7250                             Nissan Micra Diesel XV     Kolkata   \n",
       "7251   7251                             Volkswagen Polo GT TSI        Pune   \n",
       "7252   7252  Mercedes-Benz E-Class 2009-2013 E 220 CDI Avan...       Kochi   \n",
       "\n",
       "      Year  Kilometers_Driven Fuel_Type Transmission Owner_Type     Mileage  \\\n",
       "0     2010              72000       CNG       Manual      First  26.6 km/kg   \n",
       "1     2015              41000    Diesel       Manual      First  19.67 kmpl   \n",
       "2     2011              46000    Petrol       Manual      First   18.2 kmpl   \n",
       "3     2012              87000    Diesel       Manual      First  20.77 kmpl   \n",
       "4     2013              40670    Diesel    Automatic     Second   15.2 kmpl   \n",
       "...    ...                ...       ...          ...        ...         ...   \n",
       "7248  2011              89411    Diesel       Manual      First  20.54 kmpl   \n",
       "7249  2015              59000    Petrol    Automatic      First  17.21 kmpl   \n",
       "7250  2012              28000    Diesel       Manual      First  23.08 kmpl   \n",
       "7251  2013              52262    Petrol    Automatic      Third   17.2 kmpl   \n",
       "7252  2014              72443    Diesel    Automatic      First   10.0 kmpl   \n",
       "\n",
       "       Engine      Power  Seats  New_Price  Price   Vehicle_Type  \\\n",
       "0      998 CC  58.16 bhp    5.0       5.51   1.75         Maruti   \n",
       "1     1582 CC  126.2 bhp    5.0      16.06  12.50        Hyundai   \n",
       "2     1199 CC   88.7 bhp    5.0       8.61   4.50          Honda   \n",
       "3     1248 CC  88.76 bhp    7.0      11.27   6.00         Maruti   \n",
       "4     1968 CC  140.8 bhp    5.0      53.14  17.74           Audi   \n",
       "...       ...        ...    ...        ...    ...            ...   \n",
       "7248  1598 CC  103.6 bhp    5.0      13.23    NaN     Volkswagen   \n",
       "7249  1197 CC  103.6 bhp    5.0      10.15    NaN     Volkswagen   \n",
       "7250  1461 CC   63.1 bhp    5.0       9.47    NaN         Nissan   \n",
       "7251  1197 CC  103.6 bhp    5.0      10.15    NaN     Volkswagen   \n",
       "7252  2148 CC    170 bhp    5.0      86.97    NaN  Mercedes-Benz   \n",
       "\n",
       "      Engine_metric  Mileage_metric  Power_metric  \n",
       "0             998.0           26.60         58.16  \n",
       "1            1582.0           19.67        126.20  \n",
       "2            1199.0           18.20         88.70  \n",
       "3            1248.0           20.77         88.76  \n",
       "4            1968.0           15.20        140.80  \n",
       "...             ...             ...           ...  \n",
       "7248         1598.0           20.54        103.60  \n",
       "7249         1197.0           17.21        103.60  \n",
       "7250         1461.0           23.08         63.10  \n",
       "7251         1197.0           17.20        103.60  \n",
       "7252         2148.0           10.00        170.00  \n",
       "\n",
       "[7253 rows x 18 columns]"
      ]
     },
     "execution_count": 13,
     "metadata": {},
     "output_type": "execute_result"
    }
   ],
   "source": [
    "df"
   ]
  },
  {
   "cell_type": "markdown",
   "id": "92509e9e",
   "metadata": {},
   "source": [
    "### Missing Entries"
   ]
  },
  {
   "cell_type": "code",
   "execution_count": 14,
   "id": "af4c71bd",
   "metadata": {},
   "outputs": [
    {
     "data": {
      "text/plain": [
       "S.No.                   0\n",
       "Name                    0\n",
       "Location                0\n",
       "Year                    0\n",
       "Kilometers_Driven       0\n",
       "Fuel_Type               0\n",
       "Transmission            0\n",
       "Owner_Type              0\n",
       "Mileage                 2\n",
       "Engine                 46\n",
       "Power                 175\n",
       "Seats                  53\n",
       "New_Price               0\n",
       "Price                1234\n",
       "Vehicle_Type            0\n",
       "Engine_metric          46\n",
       "Mileage_metric          2\n",
       "Power_metric          175\n",
       "dtype: int64"
      ]
     },
     "execution_count": 14,
     "metadata": {},
     "output_type": "execute_result"
    }
   ],
   "source": [
    "df.isna().sum()"
   ]
  },
  {
   "cell_type": "markdown",
   "id": "05d60319",
   "metadata": {},
   "source": [
    "I grouped the dataframe inorder to fill the missing entries by obtaining the mean of the engine capacity, power, mileage and price based on the vehicle brand."
   ]
  },
  {
   "cell_type": "code",
   "execution_count": 15,
   "id": "70d1cc36",
   "metadata": {},
   "outputs": [],
   "source": [
    "missing_set = []\n",
    "values = df.groupby('Vehicle_Type')\n",
    "unique_values = df['Vehicle_Type'].unique() # a list of vehicle brand is created\n",
    "updated_values = unique_values.tolist()"
   ]
  },
  {
   "cell_type": "code",
   "execution_count": 16,
   "id": "aea7cc28",
   "metadata": {},
   "outputs": [],
   "source": [
    "# Based on the group, the mean of the variables are collected and stored in the missing set list, \n",
    "# zipped with the brand and variables some of the variables still had nan means values\n",
    "for x in updated_values:\n",
    "    new_value = values.get_group(x)\n",
    "    missing_set.append([new_value['Engine_metric'].mean(), new_value['Power_metric'].mean(), \n",
    "                       new_value['Mileage_metric'].mean(), new_value['Price'].mean(), new_value['Seats'].mean()])\n",
    "Updated_values = dict(zip(updated_values,missing_set))"
   ]
  },
  {
   "cell_type": "code",
   "execution_count": 17,
   "id": "c89ec235",
   "metadata": {},
   "outputs": [],
   "source": [
    "empty_price = df[df['Price'].isna()] #the empty price entries are obtained"
   ]
  },
  {
   "cell_type": "code",
   "execution_count": 18,
   "id": "58120d00",
   "metadata": {},
   "outputs": [],
   "source": [
    "# A function that replaces the empty entries with the new dictionary containing the mean values.\n",
    "def update_all(df,row,empty):\n",
    "    for i in row.items():\n",
    "        for k,j in empty.iterrows():\n",
    "            if j['Vehicle_Type'] == i[0]:\n",
    "                df.loc[[k],'Engine_metric'],df.loc[[k],'Power_metric'],df.loc[[k],'Mileage_metric'],df.loc[[k],'Price'],df.loc[[k],'Seats'] = i[1][0],i[1][1],i[1][2],i[1][3],i[1][4]"
   ]
  },
  {
   "cell_type": "code",
   "execution_count": 19,
   "id": "15db9085",
   "metadata": {},
   "outputs": [],
   "source": [
    "update_all(df,Updated_values,empty_price)"
   ]
  },
  {
   "cell_type": "code",
   "execution_count": 20,
   "id": "2f79a1eb",
   "metadata": {},
   "outputs": [
    {
     "data": {
      "text/plain": [
       "S.No.                  0\n",
       "Name                   0\n",
       "Location               0\n",
       "Year                   0\n",
       "Kilometers_Driven      0\n",
       "Fuel_Type              0\n",
       "Transmission           0\n",
       "Owner_Type             0\n",
       "Mileage                2\n",
       "Engine                46\n",
       "Power                175\n",
       "Seats                 42\n",
       "New_Price              0\n",
       "Price                  2\n",
       "Vehicle_Type           0\n",
       "Engine_metric         36\n",
       "Mileage_metric         2\n",
       "Power_metric         144\n",
       "dtype: int64"
      ]
     },
     "execution_count": 20,
     "metadata": {},
     "output_type": "execute_result"
    }
   ],
   "source": [
    "df.isna().sum()"
   ]
  },
  {
   "cell_type": "code",
   "execution_count": 21,
   "id": "bddbdafa",
   "metadata": {},
   "outputs": [],
   "source": [
    "#This function reduces dimensionality in the engine capacity by grouping them based on 500CC difference\n",
    "def engine_metric(x):\n",
    "    if x > 0 and x < 500:\n",
    "        return 0\n",
    "    elif x > 499 and x < 1000:\n",
    "        return 1\n",
    "    elif x > 999 and x < 1500:\n",
    "        return 2\n",
    "    elif x > 1499 and x < 2000:\n",
    "        return 3\n",
    "    elif x > 1999 and x < 2500:\n",
    "        return 4\n",
    "    elif x > 2499 and x < 3000:\n",
    "        return 5\n",
    "    elif x > 2999 and x < 3500:\n",
    "        return 6\n",
    "    elif x > 3499 and x < 4000:\n",
    "        return 7\n",
    "    elif x > 3999 and x < 4500:\n",
    "        return 8\n",
    "    elif x > 4499 and x < 5000:\n",
    "        return 9\n",
    "    elif x > 4999 and x < 5500:\n",
    "        return 10\n",
    "    else:\n",
    "        return 11"
   ]
  },
  {
   "cell_type": "code",
   "execution_count": 22,
   "id": "d9cad53d",
   "metadata": {},
   "outputs": [],
   "source": [
    "df['Engine_metrics'] = df['Engine_metric'].apply(lambda x: engine_metric(x)) #Function is applied"
   ]
  },
  {
   "cell_type": "code",
   "execution_count": 23,
   "id": "5810940e",
   "metadata": {},
   "outputs": [],
   "source": [
    "# This function reduces dimensionality in the Mileage covered by the Vehicle by \n",
    "# grouping them based on 5 km/l or km/kg based on the fuel type\n",
    "def mileage(x):\n",
    "    if x == 0 or x < 5.00:\n",
    "        return 0\n",
    "    elif x > 4.00 or x < 10.00:\n",
    "        return 1\n",
    "    elif x > 9.00 or x < 15.00:\n",
    "        return 2\n",
    "    elif x > 14.00 or x < 20.00:\n",
    "        return 3\n",
    "    elif x > 19.00 or x < 25.00:\n",
    "        return 4\n",
    "    elif x > 24.00 or x < 30.00:\n",
    "        return 5\n",
    "    else:\n",
    "        return 6"
   ]
  },
  {
   "cell_type": "code",
   "execution_count": 24,
   "id": "2a93a687",
   "metadata": {},
   "outputs": [],
   "source": [
    "df['mileages'] = df['Mileage_metric'].apply(lambda x: mileage(x)) #Function is applied"
   ]
  },
  {
   "cell_type": "code",
   "execution_count": 25,
   "id": "26b59652",
   "metadata": {},
   "outputs": [],
   "source": [
    "#This function reduces dimensionality in the Power of the Vehicle by grouping them based on 50 bhp difference\n",
    "def power(x):\n",
    "    if x == 0 or x < 50.00:\n",
    "        return 0\n",
    "    elif x > 49.00 or x < 100.00:\n",
    "        return 1\n",
    "    elif x > 99.00 or x < 150.00:\n",
    "        return 2\n",
    "    elif x > 149.00 or x < 200.00:\n",
    "        return 3\n",
    "    elif x > 199.00 or x < 250.00:\n",
    "        return 4\n",
    "    elif x > 249.00 or x < 300.00:\n",
    "        return 5\n",
    "    elif x > 299.00 or x < 350.00:\n",
    "        return 6\n",
    "    elif x > 349.00 or x < 400.00:\n",
    "        return 7\n",
    "    elif x > 399.00 or x < 450.00:\n",
    "        return 8\n",
    "    elif x > 449.00 or x < 500.00:\n",
    "        return 9\n",
    "    elif x > 499.00 or x < 550.00:\n",
    "        return 10\n",
    "    else:\n",
    "        return 11"
   ]
  },
  {
   "cell_type": "code",
   "execution_count": 26,
   "id": "46e161c7",
   "metadata": {},
   "outputs": [],
   "source": [
    "df['powers'] = df['Power_metric'].apply(lambda x: power(x)) #Function is applied"
   ]
  },
  {
   "cell_type": "code",
   "execution_count": 27,
   "id": "94a6e6ca",
   "metadata": {},
   "outputs": [
    {
     "data": {
      "text/plain": [
       "array(['First', 'Second', 'Fourth & Above', 'Third'], dtype=object)"
      ]
     },
     "execution_count": 27,
     "metadata": {},
     "output_type": "execute_result"
    }
   ],
   "source": [
    "df['Owner_Type'].unique()"
   ]
  },
  {
   "cell_type": "code",
   "execution_count": 28,
   "id": "0ab4d6a6",
   "metadata": {},
   "outputs": [],
   "source": [
    "# the owner type is grouped\n",
    "def owner_value(x):\n",
    "    if x == 'First':\n",
    "        return 0\n",
    "    elif x == 'Second':\n",
    "        return 1\n",
    "    elif x == 'Third':\n",
    "        return 2\n",
    "    else:\n",
    "        return 3"
   ]
  },
  {
   "cell_type": "code",
   "execution_count": 29,
   "id": "1d1fcac7",
   "metadata": {},
   "outputs": [],
   "source": [
    "df['owner'] = df['Owner_Type'].apply(lambda x: owner_value(x))"
   ]
  },
  {
   "cell_type": "code",
   "execution_count": 30,
   "id": "1f7e29bd",
   "metadata": {},
   "outputs": [
    {
     "data": {
      "text/plain": [
       "array(['CNG', 'Diesel', 'Petrol', 'LPG', 'Electric'], dtype=object)"
      ]
     },
     "execution_count": 30,
     "metadata": {},
     "output_type": "execute_result"
    }
   ],
   "source": [
    "df['Fuel_Type'].unique()"
   ]
  },
  {
   "cell_type": "code",
   "execution_count": 31,
   "id": "122a7152",
   "metadata": {},
   "outputs": [],
   "source": [
    "# Fuel type is grouped\n",
    "def fuel_value(x):\n",
    "    if x == 'CNG':\n",
    "        return 0\n",
    "    elif x == 'Diesel':\n",
    "        return 1\n",
    "    elif x == 'Petrol':\n",
    "        return 2\n",
    "    elif x == 'LPG':\n",
    "        return 3\n",
    "    else:\n",
    "        return 4"
   ]
  },
  {
   "cell_type": "code",
   "execution_count": 32,
   "id": "23a29f81",
   "metadata": {},
   "outputs": [],
   "source": [
    "df['fuel'] = df['Fuel_Type'].apply(lambda x: fuel_value(x))"
   ]
  },
  {
   "cell_type": "code",
   "execution_count": 33,
   "id": "6b27a8bf",
   "metadata": {},
   "outputs": [
    {
     "data": {
      "text/plain": [
       "array(['Manual', 'Automatic'], dtype=object)"
      ]
     },
     "execution_count": 33,
     "metadata": {},
     "output_type": "execute_result"
    }
   ],
   "source": [
    "df['Transmission'].unique()"
   ]
  },
  {
   "cell_type": "code",
   "execution_count": 34,
   "id": "c9aac61c",
   "metadata": {},
   "outputs": [],
   "source": [
    "# Function to group the transmission type.\n",
    "def car_transmission(x):\n",
    "    if x == 'Manual':\n",
    "        return 0\n",
    "    else:\n",
    "        return 1"
   ]
  },
  {
   "cell_type": "code",
   "execution_count": 35,
   "id": "d5ba52c3",
   "metadata": {},
   "outputs": [],
   "source": [
    "df['transmission'] = df['Transmission'].apply(lambda x: car_transmission(x))"
   ]
  },
  {
   "cell_type": "code",
   "execution_count": 36,
   "id": "b3da4cec",
   "metadata": {},
   "outputs": [],
   "source": [
    "# This function calculate how long the vehicle has been in use against the current year.\n",
    "def year_driven(x):\n",
    "    value = 2022 - x\n",
    "    return value"
   ]
  },
  {
   "cell_type": "code",
   "execution_count": 37,
   "id": "e2f7f373",
   "metadata": {},
   "outputs": [],
   "source": [
    "df['Year_driven'] = df['Year'].apply(lambda x: year_driven(x))"
   ]
  },
  {
   "cell_type": "code",
   "execution_count": 38,
   "id": "8f445300",
   "metadata": {},
   "outputs": [
    {
     "data": {
      "text/plain": [
       "array(['Maruti', 'Hyundai', 'Honda', 'Audi', 'Nissan', 'Toyota',\n",
       "       'Volkswagen', 'Tata', 'Land', 'Mitsubishi', 'Renault',\n",
       "       'Mercedes-Benz', 'BMW', 'Mahindra', 'Ford', 'Porsche', 'Datsun',\n",
       "       'Jaguar', 'Volvo', 'Chevrolet', 'Skoda', 'Mini', 'Fiat', 'Jeep',\n",
       "       'Smart', 'Ambassador', 'Isuzu', 'ISUZU', 'Force', 'Bentley',\n",
       "       'Lamborghini', 'Hindustan', 'OpelCorsa'], dtype=object)"
      ]
     },
     "execution_count": 38,
     "metadata": {},
     "output_type": "execute_result"
    }
   ],
   "source": [
    "df['Vehicle_Type'].unique()"
   ]
  },
  {
   "cell_type": "code",
   "execution_count": 39,
   "id": "a70bc139",
   "metadata": {},
   "outputs": [],
   "source": [
    "# Vehicle Brands were grouped.\n",
    "def vehicle(x):\n",
    "    if x == 'Maruti':\n",
    "        return 0\n",
    "    elif x == 'Hyundai':\n",
    "        return 1 \n",
    "    elif x == 'Honda':\n",
    "        return 2\n",
    "    elif x == 'Audi':\n",
    "        return 3\n",
    "    elif x == 'Nissan':\n",
    "        return 4\n",
    "    elif x == 'Toyota':\n",
    "        return 5\n",
    "    elif x == 'Volkswagen':\n",
    "        return 6\n",
    "    elif x == 'Tata':\n",
    "        return 7\n",
    "    elif x == 'Land':\n",
    "        return 8\n",
    "    elif x == 'Mitsubishi':\n",
    "        return 9\n",
    "    elif x == 'Renault':\n",
    "        return 10\n",
    "    elif x == 'Mercedes-Benz':\n",
    "        return 11\n",
    "    elif x == 'BMW':\n",
    "        return 12\n",
    "    elif x == 'Mahindra':\n",
    "        return 13\n",
    "    elif x == 'Ford':\n",
    "        return 14\n",
    "    elif x == 'Porsche':\n",
    "        return 15\n",
    "    elif x == 'Datsun':\n",
    "        return 16\n",
    "    elif x == 'Jaguar':\n",
    "        return 17\n",
    "    elif x =='Volvo':\n",
    "        return 18\n",
    "    elif x =='Chevrolet':\n",
    "        return 19\n",
    "    elif x =='Skoda':\n",
    "        return 20\n",
    "    elif x =='Mini':\n",
    "        return 21\n",
    "    elif x =='Fiat':\n",
    "        return 22\n",
    "    elif x =='Jeep':\n",
    "        return 23\n",
    "    elif x =='Smart':\n",
    "        return 24\n",
    "    elif x =='Ambassador':\n",
    "        return 25\n",
    "    elif x =='Isuzu':\n",
    "        return 26\n",
    "    elif x =='ISUZU':\n",
    "        return 27\n",
    "    elif x =='Force':\n",
    "        return 28\n",
    "    elif x =='Bentley':\n",
    "        return 29\n",
    "    elif x =='Lamborghini':\n",
    "        return 30\n",
    "    elif x =='Hindustan':\n",
    "        return 31\n",
    "    else:\n",
    "        return 32"
   ]
  },
  {
   "cell_type": "code",
   "execution_count": 40,
   "id": "72251d98",
   "metadata": {},
   "outputs": [],
   "source": [
    "df['vehicle_dummy'] = df['Vehicle_Type'].apply(lambda x : vehicle(x))"
   ]
  },
  {
   "cell_type": "code",
   "execution_count": 41,
   "id": "482deb3f",
   "metadata": {},
   "outputs": [
    {
     "data": {
      "text/html": [
       "<div>\n",
       "<style scoped>\n",
       "    .dataframe tbody tr th:only-of-type {\n",
       "        vertical-align: middle;\n",
       "    }\n",
       "\n",
       "    .dataframe tbody tr th {\n",
       "        vertical-align: top;\n",
       "    }\n",
       "\n",
       "    .dataframe thead th {\n",
       "        text-align: right;\n",
       "    }\n",
       "</style>\n",
       "<table border=\"1\" class=\"dataframe\">\n",
       "  <thead>\n",
       "    <tr style=\"text-align: right;\">\n",
       "      <th></th>\n",
       "      <th>S.No.</th>\n",
       "      <th>Name</th>\n",
       "      <th>Location</th>\n",
       "      <th>Year</th>\n",
       "      <th>Kilometers_Driven</th>\n",
       "      <th>Fuel_Type</th>\n",
       "      <th>Transmission</th>\n",
       "      <th>Owner_Type</th>\n",
       "      <th>Mileage</th>\n",
       "      <th>Engine</th>\n",
       "      <th>Power</th>\n",
       "      <th>Seats</th>\n",
       "      <th>New_Price</th>\n",
       "      <th>Price</th>\n",
       "      <th>Vehicle_Type</th>\n",
       "      <th>Engine_metric</th>\n",
       "      <th>Mileage_metric</th>\n",
       "      <th>Power_metric</th>\n",
       "      <th>Engine_metrics</th>\n",
       "      <th>mileages</th>\n",
       "      <th>powers</th>\n",
       "      <th>owner</th>\n",
       "      <th>fuel</th>\n",
       "      <th>transmission</th>\n",
       "      <th>Year_driven</th>\n",
       "      <th>vehicle_dummy</th>\n",
       "    </tr>\n",
       "  </thead>\n",
       "  <tbody>\n",
       "    <tr>\n",
       "      <th>0</th>\n",
       "      <td>0</td>\n",
       "      <td>Maruti Wagon R LXI CNG</td>\n",
       "      <td>Mumbai</td>\n",
       "      <td>2010</td>\n",
       "      <td>72000</td>\n",
       "      <td>CNG</td>\n",
       "      <td>Manual</td>\n",
       "      <td>First</td>\n",
       "      <td>26.6 km/kg</td>\n",
       "      <td>998 CC</td>\n",
       "      <td>58.16 bhp</td>\n",
       "      <td>5.000000</td>\n",
       "      <td>5.51</td>\n",
       "      <td>1.750000</td>\n",
       "      <td>Maruti</td>\n",
       "      <td>998.000000</td>\n",
       "      <td>26.600000</td>\n",
       "      <td>58.160000</td>\n",
       "      <td>1</td>\n",
       "      <td>1</td>\n",
       "      <td>1</td>\n",
       "      <td>0</td>\n",
       "      <td>0</td>\n",
       "      <td>0</td>\n",
       "      <td>12</td>\n",
       "      <td>0</td>\n",
       "    </tr>\n",
       "    <tr>\n",
       "      <th>1</th>\n",
       "      <td>1</td>\n",
       "      <td>Hyundai Creta 1.6 CRDi SX Option</td>\n",
       "      <td>Pune</td>\n",
       "      <td>2015</td>\n",
       "      <td>41000</td>\n",
       "      <td>Diesel</td>\n",
       "      <td>Manual</td>\n",
       "      <td>First</td>\n",
       "      <td>19.67 kmpl</td>\n",
       "      <td>1582 CC</td>\n",
       "      <td>126.2 bhp</td>\n",
       "      <td>5.000000</td>\n",
       "      <td>16.06</td>\n",
       "      <td>12.500000</td>\n",
       "      <td>Hyundai</td>\n",
       "      <td>1582.000000</td>\n",
       "      <td>19.670000</td>\n",
       "      <td>126.200000</td>\n",
       "      <td>3</td>\n",
       "      <td>1</td>\n",
       "      <td>1</td>\n",
       "      <td>0</td>\n",
       "      <td>1</td>\n",
       "      <td>0</td>\n",
       "      <td>7</td>\n",
       "      <td>1</td>\n",
       "    </tr>\n",
       "    <tr>\n",
       "      <th>2</th>\n",
       "      <td>2</td>\n",
       "      <td>Honda Jazz V</td>\n",
       "      <td>Chennai</td>\n",
       "      <td>2011</td>\n",
       "      <td>46000</td>\n",
       "      <td>Petrol</td>\n",
       "      <td>Manual</td>\n",
       "      <td>First</td>\n",
       "      <td>18.2 kmpl</td>\n",
       "      <td>1199 CC</td>\n",
       "      <td>88.7 bhp</td>\n",
       "      <td>5.000000</td>\n",
       "      <td>8.61</td>\n",
       "      <td>4.500000</td>\n",
       "      <td>Honda</td>\n",
       "      <td>1199.000000</td>\n",
       "      <td>18.200000</td>\n",
       "      <td>88.700000</td>\n",
       "      <td>2</td>\n",
       "      <td>1</td>\n",
       "      <td>1</td>\n",
       "      <td>0</td>\n",
       "      <td>2</td>\n",
       "      <td>0</td>\n",
       "      <td>11</td>\n",
       "      <td>2</td>\n",
       "    </tr>\n",
       "    <tr>\n",
       "      <th>3</th>\n",
       "      <td>3</td>\n",
       "      <td>Maruti Ertiga VDI</td>\n",
       "      <td>Chennai</td>\n",
       "      <td>2012</td>\n",
       "      <td>87000</td>\n",
       "      <td>Diesel</td>\n",
       "      <td>Manual</td>\n",
       "      <td>First</td>\n",
       "      <td>20.77 kmpl</td>\n",
       "      <td>1248 CC</td>\n",
       "      <td>88.76 bhp</td>\n",
       "      <td>7.000000</td>\n",
       "      <td>11.27</td>\n",
       "      <td>6.000000</td>\n",
       "      <td>Maruti</td>\n",
       "      <td>1248.000000</td>\n",
       "      <td>20.770000</td>\n",
       "      <td>88.760000</td>\n",
       "      <td>2</td>\n",
       "      <td>1</td>\n",
       "      <td>1</td>\n",
       "      <td>0</td>\n",
       "      <td>1</td>\n",
       "      <td>0</td>\n",
       "      <td>10</td>\n",
       "      <td>0</td>\n",
       "    </tr>\n",
       "    <tr>\n",
       "      <th>4</th>\n",
       "      <td>4</td>\n",
       "      <td>Audi A4 New 2.0 TDI Multitronic</td>\n",
       "      <td>Coimbatore</td>\n",
       "      <td>2013</td>\n",
       "      <td>40670</td>\n",
       "      <td>Diesel</td>\n",
       "      <td>Automatic</td>\n",
       "      <td>Second</td>\n",
       "      <td>15.2 kmpl</td>\n",
       "      <td>1968 CC</td>\n",
       "      <td>140.8 bhp</td>\n",
       "      <td>5.000000</td>\n",
       "      <td>53.14</td>\n",
       "      <td>17.740000</td>\n",
       "      <td>Audi</td>\n",
       "      <td>1968.000000</td>\n",
       "      <td>15.200000</td>\n",
       "      <td>140.800000</td>\n",
       "      <td>3</td>\n",
       "      <td>1</td>\n",
       "      <td>1</td>\n",
       "      <td>1</td>\n",
       "      <td>1</td>\n",
       "      <td>1</td>\n",
       "      <td>9</td>\n",
       "      <td>3</td>\n",
       "    </tr>\n",
       "    <tr>\n",
       "      <th>...</th>\n",
       "      <td>...</td>\n",
       "      <td>...</td>\n",
       "      <td>...</td>\n",
       "      <td>...</td>\n",
       "      <td>...</td>\n",
       "      <td>...</td>\n",
       "      <td>...</td>\n",
       "      <td>...</td>\n",
       "      <td>...</td>\n",
       "      <td>...</td>\n",
       "      <td>...</td>\n",
       "      <td>...</td>\n",
       "      <td>...</td>\n",
       "      <td>...</td>\n",
       "      <td>...</td>\n",
       "      <td>...</td>\n",
       "      <td>...</td>\n",
       "      <td>...</td>\n",
       "      <td>...</td>\n",
       "      <td>...</td>\n",
       "      <td>...</td>\n",
       "      <td>...</td>\n",
       "      <td>...</td>\n",
       "      <td>...</td>\n",
       "      <td>...</td>\n",
       "      <td>...</td>\n",
       "    </tr>\n",
       "    <tr>\n",
       "      <th>7248</th>\n",
       "      <td>7248</td>\n",
       "      <td>Volkswagen Vento Diesel Trendline</td>\n",
       "      <td>Hyderabad</td>\n",
       "      <td>2011</td>\n",
       "      <td>89411</td>\n",
       "      <td>Diesel</td>\n",
       "      <td>Manual</td>\n",
       "      <td>First</td>\n",
       "      <td>20.54 kmpl</td>\n",
       "      <td>1598 CC</td>\n",
       "      <td>103.6 bhp</td>\n",
       "      <td>4.991979</td>\n",
       "      <td>13.23</td>\n",
       "      <td>5.307270</td>\n",
       "      <td>Volkswagen</td>\n",
       "      <td>1438.783422</td>\n",
       "      <td>18.288316</td>\n",
       "      <td>94.761220</td>\n",
       "      <td>2</td>\n",
       "      <td>1</td>\n",
       "      <td>1</td>\n",
       "      <td>0</td>\n",
       "      <td>1</td>\n",
       "      <td>0</td>\n",
       "      <td>11</td>\n",
       "      <td>6</td>\n",
       "    </tr>\n",
       "    <tr>\n",
       "      <th>7249</th>\n",
       "      <td>7249</td>\n",
       "      <td>Volkswagen Polo GT TSI</td>\n",
       "      <td>Mumbai</td>\n",
       "      <td>2015</td>\n",
       "      <td>59000</td>\n",
       "      <td>Petrol</td>\n",
       "      <td>Automatic</td>\n",
       "      <td>First</td>\n",
       "      <td>17.21 kmpl</td>\n",
       "      <td>1197 CC</td>\n",
       "      <td>103.6 bhp</td>\n",
       "      <td>4.991979</td>\n",
       "      <td>10.15</td>\n",
       "      <td>5.307270</td>\n",
       "      <td>Volkswagen</td>\n",
       "      <td>1438.783422</td>\n",
       "      <td>18.288316</td>\n",
       "      <td>94.761220</td>\n",
       "      <td>2</td>\n",
       "      <td>1</td>\n",
       "      <td>1</td>\n",
       "      <td>0</td>\n",
       "      <td>2</td>\n",
       "      <td>1</td>\n",
       "      <td>7</td>\n",
       "      <td>6</td>\n",
       "    </tr>\n",
       "    <tr>\n",
       "      <th>7250</th>\n",
       "      <td>7250</td>\n",
       "      <td>Nissan Micra Diesel XV</td>\n",
       "      <td>Kolkata</td>\n",
       "      <td>2012</td>\n",
       "      <td>28000</td>\n",
       "      <td>Diesel</td>\n",
       "      <td>Manual</td>\n",
       "      <td>First</td>\n",
       "      <td>23.08 kmpl</td>\n",
       "      <td>1461 CC</td>\n",
       "      <td>63.1 bhp</td>\n",
       "      <td>4.991453</td>\n",
       "      <td>9.47</td>\n",
       "      <td>4.738352</td>\n",
       "      <td>Nissan</td>\n",
       "      <td>1492.837607</td>\n",
       "      <td>19.229915</td>\n",
       "      <td>89.702478</td>\n",
       "      <td>2</td>\n",
       "      <td>1</td>\n",
       "      <td>1</td>\n",
       "      <td>0</td>\n",
       "      <td>1</td>\n",
       "      <td>0</td>\n",
       "      <td>10</td>\n",
       "      <td>4</td>\n",
       "    </tr>\n",
       "    <tr>\n",
       "      <th>7251</th>\n",
       "      <td>7251</td>\n",
       "      <td>Volkswagen Polo GT TSI</td>\n",
       "      <td>Pune</td>\n",
       "      <td>2013</td>\n",
       "      <td>52262</td>\n",
       "      <td>Petrol</td>\n",
       "      <td>Automatic</td>\n",
       "      <td>Third</td>\n",
       "      <td>17.2 kmpl</td>\n",
       "      <td>1197 CC</td>\n",
       "      <td>103.6 bhp</td>\n",
       "      <td>4.991979</td>\n",
       "      <td>10.15</td>\n",
       "      <td>5.307270</td>\n",
       "      <td>Volkswagen</td>\n",
       "      <td>1438.783422</td>\n",
       "      <td>18.288316</td>\n",
       "      <td>94.761220</td>\n",
       "      <td>2</td>\n",
       "      <td>1</td>\n",
       "      <td>1</td>\n",
       "      <td>2</td>\n",
       "      <td>2</td>\n",
       "      <td>1</td>\n",
       "      <td>9</td>\n",
       "      <td>6</td>\n",
       "    </tr>\n",
       "    <tr>\n",
       "      <th>7252</th>\n",
       "      <td>7252</td>\n",
       "      <td>Mercedes-Benz E-Class 2009-2013 E 220 CDI Avan...</td>\n",
       "      <td>Kochi</td>\n",
       "      <td>2014</td>\n",
       "      <td>72443</td>\n",
       "      <td>Diesel</td>\n",
       "      <td>Automatic</td>\n",
       "      <td>First</td>\n",
       "      <td>10.0 kmpl</td>\n",
       "      <td>2148 CC</td>\n",
       "      <td>170 bhp</td>\n",
       "      <td>5.050000</td>\n",
       "      <td>86.97</td>\n",
       "      <td>26.809874</td>\n",
       "      <td>Mercedes-Benz</td>\n",
       "      <td>2356.773684</td>\n",
       "      <td>13.933368</td>\n",
       "      <td>193.620820</td>\n",
       "      <td>4</td>\n",
       "      <td>1</td>\n",
       "      <td>1</td>\n",
       "      <td>0</td>\n",
       "      <td>1</td>\n",
       "      <td>1</td>\n",
       "      <td>8</td>\n",
       "      <td>11</td>\n",
       "    </tr>\n",
       "  </tbody>\n",
       "</table>\n",
       "<p>7253 rows × 26 columns</p>\n",
       "</div>"
      ],
      "text/plain": [
       "      S.No.                                               Name    Location  \\\n",
       "0         0                             Maruti Wagon R LXI CNG      Mumbai   \n",
       "1         1                   Hyundai Creta 1.6 CRDi SX Option        Pune   \n",
       "2         2                                       Honda Jazz V     Chennai   \n",
       "3         3                                  Maruti Ertiga VDI     Chennai   \n",
       "4         4                    Audi A4 New 2.0 TDI Multitronic  Coimbatore   \n",
       "...     ...                                                ...         ...   \n",
       "7248   7248                  Volkswagen Vento Diesel Trendline   Hyderabad   \n",
       "7249   7249                             Volkswagen Polo GT TSI      Mumbai   \n",
       "7250   7250                             Nissan Micra Diesel XV     Kolkata   \n",
       "7251   7251                             Volkswagen Polo GT TSI        Pune   \n",
       "7252   7252  Mercedes-Benz E-Class 2009-2013 E 220 CDI Avan...       Kochi   \n",
       "\n",
       "      Year  Kilometers_Driven Fuel_Type Transmission Owner_Type     Mileage  \\\n",
       "0     2010              72000       CNG       Manual      First  26.6 km/kg   \n",
       "1     2015              41000    Diesel       Manual      First  19.67 kmpl   \n",
       "2     2011              46000    Petrol       Manual      First   18.2 kmpl   \n",
       "3     2012              87000    Diesel       Manual      First  20.77 kmpl   \n",
       "4     2013              40670    Diesel    Automatic     Second   15.2 kmpl   \n",
       "...    ...                ...       ...          ...        ...         ...   \n",
       "7248  2011              89411    Diesel       Manual      First  20.54 kmpl   \n",
       "7249  2015              59000    Petrol    Automatic      First  17.21 kmpl   \n",
       "7250  2012              28000    Diesel       Manual      First  23.08 kmpl   \n",
       "7251  2013              52262    Petrol    Automatic      Third   17.2 kmpl   \n",
       "7252  2014              72443    Diesel    Automatic      First   10.0 kmpl   \n",
       "\n",
       "       Engine      Power     Seats  New_Price      Price   Vehicle_Type  \\\n",
       "0      998 CC  58.16 bhp  5.000000       5.51   1.750000         Maruti   \n",
       "1     1582 CC  126.2 bhp  5.000000      16.06  12.500000        Hyundai   \n",
       "2     1199 CC   88.7 bhp  5.000000       8.61   4.500000          Honda   \n",
       "3     1248 CC  88.76 bhp  7.000000      11.27   6.000000         Maruti   \n",
       "4     1968 CC  140.8 bhp  5.000000      53.14  17.740000           Audi   \n",
       "...       ...        ...       ...        ...        ...            ...   \n",
       "7248  1598 CC  103.6 bhp  4.991979      13.23   5.307270     Volkswagen   \n",
       "7249  1197 CC  103.6 bhp  4.991979      10.15   5.307270     Volkswagen   \n",
       "7250  1461 CC   63.1 bhp  4.991453       9.47   4.738352         Nissan   \n",
       "7251  1197 CC  103.6 bhp  4.991979      10.15   5.307270     Volkswagen   \n",
       "7252  2148 CC    170 bhp  5.050000      86.97  26.809874  Mercedes-Benz   \n",
       "\n",
       "      Engine_metric  Mileage_metric  Power_metric  Engine_metrics  mileages  \\\n",
       "0        998.000000       26.600000     58.160000               1         1   \n",
       "1       1582.000000       19.670000    126.200000               3         1   \n",
       "2       1199.000000       18.200000     88.700000               2         1   \n",
       "3       1248.000000       20.770000     88.760000               2         1   \n",
       "4       1968.000000       15.200000    140.800000               3         1   \n",
       "...             ...             ...           ...             ...       ...   \n",
       "7248    1438.783422       18.288316     94.761220               2         1   \n",
       "7249    1438.783422       18.288316     94.761220               2         1   \n",
       "7250    1492.837607       19.229915     89.702478               2         1   \n",
       "7251    1438.783422       18.288316     94.761220               2         1   \n",
       "7252    2356.773684       13.933368    193.620820               4         1   \n",
       "\n",
       "      powers  owner  fuel  transmission  Year_driven  vehicle_dummy  \n",
       "0          1      0     0             0           12              0  \n",
       "1          1      0     1             0            7              1  \n",
       "2          1      0     2             0           11              2  \n",
       "3          1      0     1             0           10              0  \n",
       "4          1      1     1             1            9              3  \n",
       "...      ...    ...   ...           ...          ...            ...  \n",
       "7248       1      0     1             0           11              6  \n",
       "7249       1      0     2             1            7              6  \n",
       "7250       1      0     1             0           10              4  \n",
       "7251       1      2     2             1            9              6  \n",
       "7252       1      0     1             1            8             11  \n",
       "\n",
       "[7253 rows x 26 columns]"
      ]
     },
     "execution_count": 41,
     "metadata": {},
     "output_type": "execute_result"
    }
   ],
   "source": [
    "df"
   ]
  },
  {
   "cell_type": "code",
   "execution_count": 42,
   "id": "d007c37a",
   "metadata": {},
   "outputs": [
    {
     "data": {
      "text/plain": [
       "Index(['S.No.', 'Name', 'Location', 'Year', 'Kilometers_Driven', 'Fuel_Type',\n",
       "       'Transmission', 'Owner_Type', 'Mileage', 'Engine', 'Power', 'Seats',\n",
       "       'New_Price', 'Price', 'Vehicle_Type', 'Engine_metric', 'Mileage_metric',\n",
       "       'Power_metric', 'Engine_metrics', 'mileages', 'powers', 'owner', 'fuel',\n",
       "       'transmission', 'Year_driven', 'vehicle_dummy'],\n",
       "      dtype='object')"
      ]
     },
     "execution_count": 42,
     "metadata": {},
     "output_type": "execute_result"
    }
   ],
   "source": [
    "df.columns #viewing the columns"
   ]
  },
  {
   "cell_type": "code",
   "execution_count": 43,
   "id": "f2621a04",
   "metadata": {},
   "outputs": [],
   "source": [
    "# defining the dependent and independent variables based on the transformations.\n",
    "New_df = df[['Kilometers_Driven', 'Engine_metrics', 'mileages', 'powers', \n",
    "        'fuel', 'Seats', 'transmission', 'owner', 'vehicle_dummy', 'New_Price', 'Year_driven', 'Price']]"
   ]
  },
  {
   "cell_type": "code",
   "execution_count": 44,
   "id": "77f1c016",
   "metadata": {},
   "outputs": [
    {
     "data": {
      "text/plain": [
       "<AxesSubplot:>"
      ]
     },
     "execution_count": 44,
     "metadata": {},
     "output_type": "execute_result"
    },
    {
     "data": {
      "image/png": "[encoded data removed]",
      "text/plain": [
       "<Figure size 720x576 with 2 Axes>"
      ]
     },
     "metadata": {},
     "output_type": "display_data"
    }
   ],
   "source": [
    "coor = New_df.corr()\n",
    "features = coor.index\n",
    "fig, ax = plt.subplots(figsize=(10,8))\n",
    "sns.heatmap(New_df[features].corr(), annot = True)"
   ]
  },
  {
   "cell_type": "markdown",
   "id": "f13a4895",
   "metadata": {},
   "source": [
    "Based on the correlation matrix \n",
    "+ Engine Capacity appears to be correlated with the Price of the vehicle as well as the determinant of the New_Price\n",
    "+ Engine Capacity is also correlated to the Name of the Vehicle, the seats, and Transmission of the vehicle.\n",
    "+ The Owner type and the amount of year usuage are correlated as well as the power of the vehicle.\n",
    "+ the Transmission of the vehicle is positively correlated to the Price of the vehicle\n",
    "+ the vehicle brand and the prices of new and used cars are correlated"
   ]
  },
  {
   "cell_type": "code",
   "execution_count": 45,
   "id": "449d2b22",
   "metadata": {},
   "outputs": [],
   "source": [
    "New_df = New_df.dropna() #drop all empty entries, this was noticed as some values still had nan entries while updating "
   ]
  },
  {
   "cell_type": "code",
   "execution_count": 46,
   "id": "673f47e3",
   "metadata": {},
   "outputs": [
    {
     "data": {
      "text/html": [
       "<div>\n",
       "<style scoped>\n",
       "    .dataframe tbody tr th:only-of-type {\n",
       "        vertical-align: middle;\n",
       "    }\n",
       "\n",
       "    .dataframe tbody tr th {\n",
       "        vertical-align: top;\n",
       "    }\n",
       "\n",
       "    .dataframe thead th {\n",
       "        text-align: right;\n",
       "    }\n",
       "</style>\n",
       "<table border=\"1\" class=\"dataframe\">\n",
       "  <thead>\n",
       "    <tr style=\"text-align: right;\">\n",
       "      <th></th>\n",
       "      <th>Kilometers_Driven</th>\n",
       "      <th>Engine_metrics</th>\n",
       "      <th>mileages</th>\n",
       "      <th>powers</th>\n",
       "      <th>fuel</th>\n",
       "      <th>Seats</th>\n",
       "      <th>transmission</th>\n",
       "      <th>owner</th>\n",
       "      <th>vehicle_dummy</th>\n",
       "      <th>New_Price</th>\n",
       "      <th>Year_driven</th>\n",
       "      <th>Price</th>\n",
       "    </tr>\n",
       "  </thead>\n",
       "  <tbody>\n",
       "    <tr>\n",
       "      <th>0</th>\n",
       "      <td>72000</td>\n",
       "      <td>1</td>\n",
       "      <td>1</td>\n",
       "      <td>1</td>\n",
       "      <td>0</td>\n",
       "      <td>5.000000</td>\n",
       "      <td>0</td>\n",
       "      <td>0</td>\n",
       "      <td>0</td>\n",
       "      <td>5.51</td>\n",
       "      <td>12</td>\n",
       "      <td>1.750000</td>\n",
       "    </tr>\n",
       "    <tr>\n",
       "      <th>1</th>\n",
       "      <td>41000</td>\n",
       "      <td>3</td>\n",
       "      <td>1</td>\n",
       "      <td>1</td>\n",
       "      <td>1</td>\n",
       "      <td>5.000000</td>\n",
       "      <td>0</td>\n",
       "      <td>0</td>\n",
       "      <td>1</td>\n",
       "      <td>16.06</td>\n",
       "      <td>7</td>\n",
       "      <td>12.500000</td>\n",
       "    </tr>\n",
       "    <tr>\n",
       "      <th>2</th>\n",
       "      <td>46000</td>\n",
       "      <td>2</td>\n",
       "      <td>1</td>\n",
       "      <td>1</td>\n",
       "      <td>2</td>\n",
       "      <td>5.000000</td>\n",
       "      <td>0</td>\n",
       "      <td>0</td>\n",
       "      <td>2</td>\n",
       "      <td>8.61</td>\n",
       "      <td>11</td>\n",
       "      <td>4.500000</td>\n",
       "    </tr>\n",
       "    <tr>\n",
       "      <th>3</th>\n",
       "      <td>87000</td>\n",
       "      <td>2</td>\n",
       "      <td>1</td>\n",
       "      <td>1</td>\n",
       "      <td>1</td>\n",
       "      <td>7.000000</td>\n",
       "      <td>0</td>\n",
       "      <td>0</td>\n",
       "      <td>0</td>\n",
       "      <td>11.27</td>\n",
       "      <td>10</td>\n",
       "      <td>6.000000</td>\n",
       "    </tr>\n",
       "    <tr>\n",
       "      <th>4</th>\n",
       "      <td>40670</td>\n",
       "      <td>3</td>\n",
       "      <td>1</td>\n",
       "      <td>1</td>\n",
       "      <td>1</td>\n",
       "      <td>5.000000</td>\n",
       "      <td>1</td>\n",
       "      <td>1</td>\n",
       "      <td>3</td>\n",
       "      <td>53.14</td>\n",
       "      <td>9</td>\n",
       "      <td>17.740000</td>\n",
       "    </tr>\n",
       "    <tr>\n",
       "      <th>...</th>\n",
       "      <td>...</td>\n",
       "      <td>...</td>\n",
       "      <td>...</td>\n",
       "      <td>...</td>\n",
       "      <td>...</td>\n",
       "      <td>...</td>\n",
       "      <td>...</td>\n",
       "      <td>...</td>\n",
       "      <td>...</td>\n",
       "      <td>...</td>\n",
       "      <td>...</td>\n",
       "      <td>...</td>\n",
       "    </tr>\n",
       "    <tr>\n",
       "      <th>7248</th>\n",
       "      <td>89411</td>\n",
       "      <td>2</td>\n",
       "      <td>1</td>\n",
       "      <td>1</td>\n",
       "      <td>1</td>\n",
       "      <td>4.991979</td>\n",
       "      <td>0</td>\n",
       "      <td>0</td>\n",
       "      <td>6</td>\n",
       "      <td>13.23</td>\n",
       "      <td>11</td>\n",
       "      <td>5.307270</td>\n",
       "    </tr>\n",
       "    <tr>\n",
       "      <th>7249</th>\n",
       "      <td>59000</td>\n",
       "      <td>2</td>\n",
       "      <td>1</td>\n",
       "      <td>1</td>\n",
       "      <td>2</td>\n",
       "      <td>4.991979</td>\n",
       "      <td>1</td>\n",
       "      <td>0</td>\n",
       "      <td>6</td>\n",
       "      <td>10.15</td>\n",
       "      <td>7</td>\n",
       "      <td>5.307270</td>\n",
       "    </tr>\n",
       "    <tr>\n",
       "      <th>7250</th>\n",
       "      <td>28000</td>\n",
       "      <td>2</td>\n",
       "      <td>1</td>\n",
       "      <td>1</td>\n",
       "      <td>1</td>\n",
       "      <td>4.991453</td>\n",
       "      <td>0</td>\n",
       "      <td>0</td>\n",
       "      <td>4</td>\n",
       "      <td>9.47</td>\n",
       "      <td>10</td>\n",
       "      <td>4.738352</td>\n",
       "    </tr>\n",
       "    <tr>\n",
       "      <th>7251</th>\n",
       "      <td>52262</td>\n",
       "      <td>2</td>\n",
       "      <td>1</td>\n",
       "      <td>1</td>\n",
       "      <td>2</td>\n",
       "      <td>4.991979</td>\n",
       "      <td>1</td>\n",
       "      <td>2</td>\n",
       "      <td>6</td>\n",
       "      <td>10.15</td>\n",
       "      <td>9</td>\n",
       "      <td>5.307270</td>\n",
       "    </tr>\n",
       "    <tr>\n",
       "      <th>7252</th>\n",
       "      <td>72443</td>\n",
       "      <td>4</td>\n",
       "      <td>1</td>\n",
       "      <td>1</td>\n",
       "      <td>1</td>\n",
       "      <td>5.050000</td>\n",
       "      <td>1</td>\n",
       "      <td>0</td>\n",
       "      <td>11</td>\n",
       "      <td>86.97</td>\n",
       "      <td>8</td>\n",
       "      <td>26.809874</td>\n",
       "    </tr>\n",
       "  </tbody>\n",
       "</table>\n",
       "<p>7209 rows × 12 columns</p>\n",
       "</div>"
      ],
      "text/plain": [
       "      Kilometers_Driven  Engine_metrics  mileages  powers  fuel     Seats  \\\n",
       "0                 72000               1         1       1     0  5.000000   \n",
       "1                 41000               3         1       1     1  5.000000   \n",
       "2                 46000               2         1       1     2  5.000000   \n",
       "3                 87000               2         1       1     1  7.000000   \n",
       "4                 40670               3         1       1     1  5.000000   \n",
       "...                 ...             ...       ...     ...   ...       ...   \n",
       "7248              89411               2         1       1     1  4.991979   \n",
       "7249              59000               2         1       1     2  4.991979   \n",
       "7250              28000               2         1       1     1  4.991453   \n",
       "7251              52262               2         1       1     2  4.991979   \n",
       "7252              72443               4         1       1     1  5.050000   \n",
       "\n",
       "      transmission  owner  vehicle_dummy  New_Price  Year_driven      Price  \n",
       "0                0      0              0       5.51           12   1.750000  \n",
       "1                0      0              1      16.06            7  12.500000  \n",
       "2                0      0              2       8.61           11   4.500000  \n",
       "3                0      0              0      11.27           10   6.000000  \n",
       "4                1      1              3      53.14            9  17.740000  \n",
       "...            ...    ...            ...        ...          ...        ...  \n",
       "7248             0      0              6      13.23           11   5.307270  \n",
       "7249             1      0              6      10.15            7   5.307270  \n",
       "7250             0      0              4       9.47           10   4.738352  \n",
       "7251             1      2              6      10.15            9   5.307270  \n",
       "7252             1      0             11      86.97            8  26.809874  \n",
       "\n",
       "[7209 rows x 12 columns]"
      ]
     },
     "execution_count": 46,
     "metadata": {},
     "output_type": "execute_result"
    }
   ],
   "source": [
    "New_df"
   ]
  },
  {
   "cell_type": "code",
   "execution_count": 47,
   "id": "c3350927",
   "metadata": {},
   "outputs": [],
   "source": [
    "New_df['Seats'] = New_df['Seats'].astype(int) #Seats were converted to integers"
   ]
  },
  {
   "cell_type": "code",
   "execution_count": 48,
   "id": "605781c8",
   "metadata": {},
   "outputs": [
    {
     "data": {
      "text/plain": [
       "Kilometers_Driven    0\n",
       "Engine_metrics       0\n",
       "mileages             0\n",
       "powers               0\n",
       "fuel                 0\n",
       "Seats                0\n",
       "transmission         0\n",
       "owner                0\n",
       "vehicle_dummy        0\n",
       "New_Price            0\n",
       "Year_driven          0\n",
       "Price                0\n",
       "dtype: int64"
      ]
     },
     "execution_count": 48,
     "metadata": {},
     "output_type": "execute_result"
    }
   ],
   "source": [
    "New_df.isna().sum() "
   ]
  },
  {
   "cell_type": "markdown",
   "id": "51ea5b06",
   "metadata": {},
   "source": [
    "All missing values have been eliminated."
   ]
  },
  {
   "cell_type": "code",
   "execution_count": 49,
   "id": "a9a3dfdd",
   "metadata": {},
   "outputs": [],
   "source": [
    "# defining the variables\n",
    "X = New_df.drop([\"Price\"], axis=1)\n",
    "y = New_df[\"Price\"]"
   ]
  },
  {
   "cell_type": "code",
   "execution_count": 50,
   "id": "1d471397",
   "metadata": {},
   "outputs": [],
   "source": [
    "# splitting the data in 70:30 ratio for train to test data\n",
    "x_train, x_test, y_train, y_test = train_test_split(X, y, random_state=1)"
   ]
  },
  {
   "cell_type": "code",
   "execution_count": 51,
   "id": "b2f91f27",
   "metadata": {},
   "outputs": [
    {
     "name": "stdout",
     "output_type": "stream",
     "text": [
      "Number of rows in train data = 5406\n",
      "Number of rows in test data = 1803\n"
     ]
    }
   ],
   "source": [
    "print(\"Number of rows in train data =\", x_train.shape[0])\n",
    "print(\"Number of rows in test data =\", x_test.shape[0])"
   ]
  },
  {
   "cell_type": "code",
   "execution_count": 52,
   "id": "f3ec3ad0",
   "metadata": {},
   "outputs": [
    {
     "data": {
      "text/html": [
       "<style>#sk-container-id-1 {color: black;background-color: white;}#sk-container-id-1 pre{padding: 0;}#sk-container-id-1 div.sk-toggleable {background-color: white;}#sk-container-id-1 label.sk-toggleable__label {cursor: pointer;display: block;width: 100%;margin-bottom: 0;padding: 0.3em;box-sizing: border-box;text-align: center;}#sk-container-id-1 label.sk-toggleable__label-arrow:before {content: \"▸\";float: left;margin-right: 0.25em;color: #696969;}#sk-container-id-1 label.sk-toggleable__label-arrow:hover:before {color: black;}#sk-container-id-1 div.sk-estimator:hover label.sk-toggleable__label-arrow:before {color: black;}#sk-container-id-1 div.sk-toggleable__content {max-height: 0;max-width: 0;overflow: hidden;text-align: left;background-color: #f0f8ff;}#sk-container-id-1 div.sk-toggleable__content pre {margin: 0.2em;color: black;border-radius: 0.25em;background-color: #f0f8ff;}#sk-container-id-1 input.sk-toggleable__control:checked~div.sk-toggleable__content {max-height: 200px;max-width: 100%;overflow: auto;}#sk-container-id-1 input.sk-toggleable__control:checked~label.sk-toggleable__label-arrow:before {content: \"▾\";}#sk-container-id-1 div.sk-estimator input.sk-toggleable__control:checked~label.sk-toggleable__label {background-color: #d4ebff;}#sk-container-id-1 div.sk-label input.sk-toggleable__control:checked~label.sk-toggleable__label {background-color: #d4ebff;}#sk-container-id-1 input.sk-hidden--visually {border: 0;clip: rect(1px 1px 1px 1px);clip: rect(1px, 1px, 1px, 1px);height: 1px;margin: -1px;overflow: hidden;padding: 0;position: absolute;width: 1px;}#sk-container-id-1 div.sk-estimator {font-family: monospace;background-color: #f0f8ff;border: 1px dotted black;border-radius: 0.25em;box-sizing: border-box;margin-bottom: 0.5em;}#sk-container-id-1 div.sk-estimator:hover {background-color: #d4ebff;}#sk-container-id-1 div.sk-parallel-item::after {content: \"\";width: 100%;border-bottom: 1px solid gray;flex-grow: 1;}#sk-container-id-1 div.sk-label:hover label.sk-toggleable__label {background-color: #d4ebff;}#sk-container-id-1 div.sk-serial::before {content: \"\";position: absolute;border-left: 1px solid gray;box-sizing: border-box;top: 0;bottom: 0;left: 50%;z-index: 0;}#sk-container-id-1 div.sk-serial {display: flex;flex-direction: column;align-items: center;background-color: white;padding-right: 0.2em;padding-left: 0.2em;position: relative;}#sk-container-id-1 div.sk-item {position: relative;z-index: 1;}#sk-container-id-1 div.sk-parallel {display: flex;align-items: stretch;justify-content: center;background-color: white;position: relative;}#sk-container-id-1 div.sk-item::before, #sk-container-id-1 div.sk-parallel-item::before {content: \"\";position: absolute;border-left: 1px solid gray;box-sizing: border-box;top: 0;bottom: 0;left: 50%;z-index: -1;}#sk-container-id-1 div.sk-parallel-item {display: flex;flex-direction: column;z-index: 1;position: relative;background-color: white;}#sk-container-id-1 div.sk-parallel-item:first-child::after {align-self: flex-end;width: 50%;}#sk-container-id-1 div.sk-parallel-item:last-child::after {align-self: flex-start;width: 50%;}#sk-container-id-1 div.sk-parallel-item:only-child::after {width: 0;}#sk-container-id-1 div.sk-dashed-wrapped {border: 1px dashed gray;margin: 0 0.4em 0.5em 0.4em;box-sizing: border-box;padding-bottom: 0.4em;background-color: white;}#sk-container-id-1 div.sk-label label {font-family: monospace;font-weight: bold;display: inline-block;line-height: 1.2em;}#sk-container-id-1 div.sk-label-container {text-align: center;}#sk-container-id-1 div.sk-container {/* jupyter's `normalize.less` sets `[hidden] { display: none; }` but bootstrap.min.css set `[hidden] { display: none !important; }` so we also need the `!important` here to be able to override the default hidden behavior on the sphinx rendered scikit-learn.org. See: https://github.com/scikit-learn/scikit-learn/issues/21755 */display: inline-block !important;position: relative;}#sk-container-id-1 div.sk-text-repr-fallback {display: none;}</style><div id=\"sk-container-id-1\" class=\"sk-top-container\"><div class=\"sk-text-repr-fallback\"><pre>LinearRegression()</pre><b>In a Jupyter environment, please rerun this cell to show the HTML representation or trust the notebook. <br />On GitHub, the HTML representation is unable to render, please try loading this page with nbviewer.org.</b></div><div class=\"sk-container\" hidden><div class=\"sk-item\"><div class=\"sk-estimator sk-toggleable\"><input class=\"sk-toggleable__control sk-hidden--visually\" id=\"sk-estimator-id-1\" type=\"checkbox\" checked><label for=\"sk-estimator-id-1\" class=\"sk-toggleable__label sk-toggleable__label-arrow\">LinearRegression</label><div class=\"sk-toggleable__content\"><pre>LinearRegression()</pre></div></div></div></div></div>"
      ],
      "text/plain": [
       "LinearRegression()"
      ]
     },
     "execution_count": 52,
     "metadata": {},
     "output_type": "execute_result"
    }
   ],
   "source": [
    "# fitting the linear model\n",
    "lin_model = LinearRegression()\n",
    "lin_model.fit(x_train, y_train)"
   ]
  },
  {
   "cell_type": "code",
   "execution_count": 53,
   "id": "571693c5",
   "metadata": {},
   "outputs": [],
   "source": [
    "# function to compute adjusted R-squared\n",
    "def adj_r2_score(predictors, targets, predictions):\n",
    "    r2 = r2_score(targets, predictions)\n",
    "    n = predictors.shape[0]\n",
    "    k = predictors.shape[1]\n",
    "    return 1 - ((1 - r2) * (n - 1) / (n - k - 1))\n",
    "\n",
    "\n",
    "# # function to compute MAPE\n",
    "# def mape_score(targets, predictions):\n",
    "#     return np.mean(np.abs(targets - predictions) / targets) * 100\n",
    "\n",
    "\n",
    "# function to compute different metrics to check performance of a regression model\n",
    "def model_performance_regression(model, predictors, target):\n",
    "    \"\"\"\n",
    "    Function to compute different metrics to check regression model performance\n",
    "\n",
    "    model: regressor\n",
    "    predictors: independent variables\n",
    "    target: dependent variable\n",
    "    \"\"\"\n",
    "\n",
    "    # predicting using the independent variables\n",
    "    pred = model.predict(predictors)\n",
    "\n",
    "    r2 = r2_score(target, pred)  # to compute R-squared\n",
    "    adjr2 = adj_r2_score(predictors, target, pred)  # to compute adjusted R-squared\n",
    "    rmse = np.sqrt(mean_squared_error(target, pred))  # to compute RMSE\n",
    "    mae = mean_absolute_error(target, pred)  # to compute MAE\n",
    "#     mape = mape_score(target, pred)  # to compute MAPE\n",
    "\n",
    "    # creating a dataframe of metrics\n",
    "    df_perf = pd.DataFrame(\n",
    "        {\n",
    "            \"RMSE\": rmse,\n",
    "            \"MAE\": mae,\n",
    "            \"R-squared\": r2,\n",
    "            \"Adj. R-squared\": adjr2\n",
    "        },\n",
    "        index=[0],\n",
    "    )\n",
    "\n",
    "    return df_perf"
   ]
  },
  {
   "cell_type": "code",
   "execution_count": 54,
   "id": "94a09327",
   "metadata": {},
   "outputs": [
    {
     "data": {
      "text/html": [
       "<div>\n",
       "<style scoped>\n",
       "    .dataframe tbody tr th:only-of-type {\n",
       "        vertical-align: middle;\n",
       "    }\n",
       "\n",
       "    .dataframe tbody tr th {\n",
       "        vertical-align: top;\n",
       "    }\n",
       "\n",
       "    .dataframe thead th {\n",
       "        text-align: right;\n",
       "    }\n",
       "</style>\n",
       "<table border=\"1\" class=\"dataframe\">\n",
       "  <thead>\n",
       "    <tr style=\"text-align: right;\">\n",
       "      <th></th>\n",
       "      <th>RMSE</th>\n",
       "      <th>MAE</th>\n",
       "      <th>R-squared</th>\n",
       "      <th>Adj. R-squared</th>\n",
       "    </tr>\n",
       "  </thead>\n",
       "  <tbody>\n",
       "    <tr>\n",
       "      <th>0</th>\n",
       "      <td>5.675895</td>\n",
       "      <td>3.088902</td>\n",
       "      <td>0.713738</td>\n",
       "      <td>0.713154</td>\n",
       "    </tr>\n",
       "  </tbody>\n",
       "</table>\n",
       "</div>"
      ],
      "text/plain": [
       "       RMSE       MAE  R-squared  Adj. R-squared\n",
       "0  5.675895  3.088902   0.713738        0.713154"
      ]
     },
     "execution_count": 54,
     "metadata": {},
     "output_type": "execute_result"
    }
   ],
   "source": [
    "# Checking model performance on train set\n",
    "lin_reg_model_perf_train = model_performance_regression(lin_model, x_train, y_train)\n",
    "lin_reg_model_perf_train"
   ]
  },
  {
   "cell_type": "code",
   "execution_count": 55,
   "id": "7bd689f0",
   "metadata": {},
   "outputs": [
    {
     "data": {
      "text/html": [
       "<div>\n",
       "<style scoped>\n",
       "    .dataframe tbody tr th:only-of-type {\n",
       "        vertical-align: middle;\n",
       "    }\n",
       "\n",
       "    .dataframe tbody tr th {\n",
       "        vertical-align: top;\n",
       "    }\n",
       "\n",
       "    .dataframe thead th {\n",
       "        text-align: right;\n",
       "    }\n",
       "</style>\n",
       "<table border=\"1\" class=\"dataframe\">\n",
       "  <thead>\n",
       "    <tr style=\"text-align: right;\">\n",
       "      <th></th>\n",
       "      <th>RMSE</th>\n",
       "      <th>MAE</th>\n",
       "      <th>R-squared</th>\n",
       "      <th>Adj. R-squared</th>\n",
       "    </tr>\n",
       "  </thead>\n",
       "  <tbody>\n",
       "    <tr>\n",
       "      <th>0</th>\n",
       "      <td>5.668496</td>\n",
       "      <td>3.192485</td>\n",
       "      <td>0.738335</td>\n",
       "      <td>0.736727</td>\n",
       "    </tr>\n",
       "  </tbody>\n",
       "</table>\n",
       "</div>"
      ],
      "text/plain": [
       "       RMSE       MAE  R-squared  Adj. R-squared\n",
       "0  5.668496  3.192485   0.738335        0.736727"
      ]
     },
     "execution_count": 55,
     "metadata": {},
     "output_type": "execute_result"
    }
   ],
   "source": [
    "# Checking model performance on test set\n",
    "lin_reg_model_perf_test = model_performance_regression(lin_model, x_test, y_test)\n",
    "lin_reg_model_perf_test"
   ]
  },
  {
   "cell_type": "markdown",
   "id": "5bd9f123",
   "metadata": {},
   "source": [
    "### Sequential Feature Selection."
   ]
  },
  {
   "cell_type": "code",
   "execution_count": 56,
   "id": "0316e431",
   "metadata": {},
   "outputs": [
    {
     "name": "stderr",
     "output_type": "stream",
     "text": [
      "[Parallel(n_jobs=-1)]: Using backend LokyBackend with 4 concurrent workers.\n",
      "[Parallel(n_jobs=-1)]: Done  11 out of  11 | elapsed:    2.4s finished\n",
      "\n",
      "[2022-11-13 22:57:54] Features: 1/11 -- score: 0.5905606785740579[Parallel(n_jobs=-1)]: Using backend LokyBackend with 4 concurrent workers.\n",
      "[Parallel(n_jobs=-1)]: Done  10 out of  10 | elapsed:    0.0s finished\n",
      "\n",
      "[2022-11-13 22:57:54] Features: 2/11 -- score: 0.6678595679566712[Parallel(n_jobs=-1)]: Using backend LokyBackend with 4 concurrent workers.\n",
      "[Parallel(n_jobs=-1)]: Done   7 out of   9 | elapsed:    0.0s remaining:    0.0s\n",
      "[Parallel(n_jobs=-1)]: Done   9 out of   9 | elapsed:    0.0s finished\n",
      "\n",
      "[2022-11-13 22:57:54] Features: 3/11 -- score: 0.6986302729201432[Parallel(n_jobs=-1)]: Using backend LokyBackend with 4 concurrent workers.\n",
      "[Parallel(n_jobs=-1)]: Done   6 out of   8 | elapsed:    0.0s remaining:    0.0s\n",
      "[Parallel(n_jobs=-1)]: Done   8 out of   8 | elapsed:    0.0s finished\n",
      "\n",
      "[2022-11-13 22:57:54] Features: 4/11 -- score: 0.7064269153953212[Parallel(n_jobs=-1)]: Using backend LokyBackend with 4 concurrent workers.\n",
      "[Parallel(n_jobs=-1)]: Done   4 out of   7 | elapsed:    0.0s remaining:    0.0s\n",
      "[Parallel(n_jobs=-1)]: Done   7 out of   7 | elapsed:    0.0s finished\n",
      "\n",
      "[2022-11-13 22:57:54] Features: 5/11 -- score: 0.7071937732700371[Parallel(n_jobs=-1)]: Using backend LokyBackend with 4 concurrent workers.\n",
      "[Parallel(n_jobs=-1)]: Done   3 out of   6 | elapsed:    0.0s remaining:    0.0s\n",
      "[Parallel(n_jobs=-1)]: Done   6 out of   6 | elapsed:    0.0s finished\n",
      "\n",
      "[2022-11-13 22:57:54] Features: 6/11 -- score: 0.7073243381692798[Parallel(n_jobs=-1)]: Using backend LokyBackend with 4 concurrent workers.\n",
      "[Parallel(n_jobs=-1)]: Done   5 out of   5 | elapsed:    0.0s finished\n",
      "\n",
      "[2022-11-13 22:57:54] Features: 7/11 -- score: 0.7078728411512865[Parallel(n_jobs=-1)]: Using backend LokyBackend with 4 concurrent workers.\n",
      "[Parallel(n_jobs=-1)]: Done   4 out of   4 | elapsed:    0.0s finished\n",
      "\n",
      "[2022-11-13 22:57:54] Features: 8/11 -- score: 0.7079297768146037[Parallel(n_jobs=-1)]: Using backend LokyBackend with 4 concurrent workers.\n",
      "[Parallel(n_jobs=-1)]: Done   3 out of   3 | elapsed:    0.0s finished\n",
      "\n",
      "[2022-11-13 22:57:54] Features: 9/11 -- score: 0.7076480238706745[Parallel(n_jobs=-1)]: Using backend LokyBackend with 4 concurrent workers.\n",
      "[Parallel(n_jobs=-1)]: Done   2 out of   2 | elapsed:    0.0s finished\n",
      "\n",
      "[2022-11-13 22:57:54] Features: 10/11 -- score: 0.7073131572793054[Parallel(n_jobs=-1)]: Using backend LokyBackend with 4 concurrent workers.\n",
      "[Parallel(n_jobs=-1)]: Done   1 out of   1 | elapsed:    0.0s finished\n",
      "\n",
      "[2022-11-13 22:57:54] Features: 11/11 -- score: 0.6673799968810975"
     ]
    }
   ],
   "source": [
    "from mlxtend.feature_selection import SequentialFeatureSelector as SFS\n",
    "\n",
    "reg = LinearRegression()\n",
    "\n",
    "# Build step forward feature selection\n",
    "sfs = SFS(\n",
    "    reg,\n",
    "    k_features=x_train.shape[1],\n",
    "    forward=True,  # k_features denotes \"Number of features to select\"\n",
    "    floating=False,\n",
    "    scoring=\"r2\",\n",
    "    verbose=2,\n",
    "    n_jobs=-1,  # this will ensure all CPU cores are being used for computation\n",
    "    cv=5,\n",
    ")\n",
    "\n",
    "# Perform SFFS\n",
    "sfs = sfs.fit(x_train, y_train)"
   ]
  },
  {
   "cell_type": "code",
   "execution_count": 57,
   "id": "70c44436",
   "metadata": {},
   "outputs": [
    {
     "data": {
      "image/png": "[encoded data removed]",
      "text/plain": [
       "<Figure size 1080x360 with 1 Axes>"
      ]
     },
     "metadata": {},
     "output_type": "display_data"
    }
   ],
   "source": [
    "# to plot the performance with addition of each feature\n",
    "from mlxtend.plotting import plot_sequential_feature_selection as plot_sfs\n",
    "\n",
    "fig1 = plot_sfs(sfs.get_metric_dict(), kind=\"std_err\", figsize=(15, 5))\n",
    "plt.title(\"Sequential Forward Selection (w. StdErr)\")\n",
    "plt.show()"
   ]
  },
  {
   "cell_type": "markdown",
   "id": "ffd27982",
   "metadata": {},
   "source": [
    "The most important characteristics for my model were chosen using a sequential feature selection method, \n",
    "Performance seems to have stabilised at around 4 features."
   ]
  },
  {
   "cell_type": "code",
   "execution_count": 58,
   "id": "b768de12",
   "metadata": {},
   "outputs": [
    {
     "name": "stderr",
     "output_type": "stream",
     "text": [
      "[Parallel(n_jobs=-1)]: Using backend LokyBackend with 4 concurrent workers.\n",
      "[Parallel(n_jobs=-1)]: Done  11 out of  11 | elapsed:    0.0s finished\n",
      "\n",
      "[2022-11-13 22:57:55] Features: 1/4 -- score: 0.5905606785740579[Parallel(n_jobs=-1)]: Using backend LokyBackend with 4 concurrent workers.\n",
      "[Parallel(n_jobs=-1)]: Done  10 out of  10 | elapsed:    0.0s finished\n",
      "\n",
      "[2022-11-13 22:57:55] Features: 2/4 -- score: 0.6678595679566712[Parallel(n_jobs=-1)]: Using backend LokyBackend with 4 concurrent workers.\n",
      "[Parallel(n_jobs=-1)]: Done   7 out of   9 | elapsed:    0.0s remaining:    0.0s\n",
      "[Parallel(n_jobs=-1)]: Done   9 out of   9 | elapsed:    0.0s finished\n",
      "\n",
      "[2022-11-13 22:57:55] Features: 3/4 -- score: 0.6986302729201432[Parallel(n_jobs=-1)]: Using backend LokyBackend with 4 concurrent workers.\n",
      "[Parallel(n_jobs=-1)]: Done   6 out of   8 | elapsed:    0.0s remaining:    0.0s\n",
      "[Parallel(n_jobs=-1)]: Done   8 out of   8 | elapsed:    0.0s finished\n",
      "\n",
      "[2022-11-13 22:57:56] Features: 4/4 -- score: 0.7064269153953212"
     ]
    }
   ],
   "source": [
    "reg = LinearRegression()\n",
    "\n",
    "# # Build step forward feature selection\n",
    "sfs = SFS(\n",
    "    reg,\n",
    "    k_features=4,\n",
    "    forward=True,\n",
    "    floating=False,\n",
    "    scoring=\"r2\",\n",
    "    verbose=2,\n",
    "    cv=5,\n",
    "    n_jobs=-1,\n",
    ")\n",
    "\n",
    "# Perform SFFS\n",
    "sfs = sfs.fit(x_train, y_train)"
   ]
  },
  {
   "cell_type": "code",
   "execution_count": 59,
   "id": "21aea5a1",
   "metadata": {},
   "outputs": [
    {
     "name": "stdout",
     "output_type": "stream",
     "text": [
      "[1, 6, 9, 10]\n"
     ]
    }
   ],
   "source": [
    "# important features\n",
    "feat_cols = list(sfs.k_feature_idx_)\n",
    "print(feat_cols)"
   ]
  },
  {
   "cell_type": "code",
   "execution_count": 60,
   "id": "4c6fb331",
   "metadata": {},
   "outputs": [
    {
     "data": {
      "text/plain": [
       "Index(['Engine_metrics', 'transmission', 'New_Price', 'Year_driven'], dtype='object')"
      ]
     },
     "execution_count": 60,
     "metadata": {},
     "output_type": "execute_result"
    }
   ],
   "source": [
    "x_train.columns[feat_cols]"
   ]
  },
  {
   "cell_type": "code",
   "execution_count": 61,
   "id": "62c4f39c",
   "metadata": {},
   "outputs": [],
   "source": [
    "x_train2 = x_train[x_train.columns[feat_cols]]"
   ]
  },
  {
   "cell_type": "code",
   "execution_count": 62,
   "id": "566f72ee",
   "metadata": {},
   "outputs": [],
   "source": [
    "# Creating new x_test with the same 20 variables that we selected for x_train\n",
    "x_test2 = x_test[x_train2.columns]"
   ]
  },
  {
   "cell_type": "code",
   "execution_count": 63,
   "id": "cfddcb92",
   "metadata": {},
   "outputs": [
    {
     "data": {
      "text/html": [
       "<style>#sk-container-id-2 {color: black;background-color: white;}#sk-container-id-2 pre{padding: 0;}#sk-container-id-2 div.sk-toggleable {background-color: white;}#sk-container-id-2 label.sk-toggleable__label {cursor: pointer;display: block;width: 100%;margin-bottom: 0;padding: 0.3em;box-sizing: border-box;text-align: center;}#sk-container-id-2 label.sk-toggleable__label-arrow:before {content: \"▸\";float: left;margin-right: 0.25em;color: #696969;}#sk-container-id-2 label.sk-toggleable__label-arrow:hover:before {color: black;}#sk-container-id-2 div.sk-estimator:hover label.sk-toggleable__label-arrow:before {color: black;}#sk-container-id-2 div.sk-toggleable__content {max-height: 0;max-width: 0;overflow: hidden;text-align: left;background-color: #f0f8ff;}#sk-container-id-2 div.sk-toggleable__content pre {margin: 0.2em;color: black;border-radius: 0.25em;background-color: #f0f8ff;}#sk-container-id-2 input.sk-toggleable__control:checked~div.sk-toggleable__content {max-height: 200px;max-width: 100%;overflow: auto;}#sk-container-id-2 input.sk-toggleable__control:checked~label.sk-toggleable__label-arrow:before {content: \"▾\";}#sk-container-id-2 div.sk-estimator input.sk-toggleable__control:checked~label.sk-toggleable__label {background-color: #d4ebff;}#sk-container-id-2 div.sk-label input.sk-toggleable__control:checked~label.sk-toggleable__label {background-color: #d4ebff;}#sk-container-id-2 input.sk-hidden--visually {border: 0;clip: rect(1px 1px 1px 1px);clip: rect(1px, 1px, 1px, 1px);height: 1px;margin: -1px;overflow: hidden;padding: 0;position: absolute;width: 1px;}#sk-container-id-2 div.sk-estimator {font-family: monospace;background-color: #f0f8ff;border: 1px dotted black;border-radius: 0.25em;box-sizing: border-box;margin-bottom: 0.5em;}#sk-container-id-2 div.sk-estimator:hover {background-color: #d4ebff;}#sk-container-id-2 div.sk-parallel-item::after {content: \"\";width: 100%;border-bottom: 1px solid gray;flex-grow: 1;}#sk-container-id-2 div.sk-label:hover label.sk-toggleable__label {background-color: #d4ebff;}#sk-container-id-2 div.sk-serial::before {content: \"\";position: absolute;border-left: 1px solid gray;box-sizing: border-box;top: 0;bottom: 0;left: 50%;z-index: 0;}#sk-container-id-2 div.sk-serial {display: flex;flex-direction: column;align-items: center;background-color: white;padding-right: 0.2em;padding-left: 0.2em;position: relative;}#sk-container-id-2 div.sk-item {position: relative;z-index: 1;}#sk-container-id-2 div.sk-parallel {display: flex;align-items: stretch;justify-content: center;background-color: white;position: relative;}#sk-container-id-2 div.sk-item::before, #sk-container-id-2 div.sk-parallel-item::before {content: \"\";position: absolute;border-left: 1px solid gray;box-sizing: border-box;top: 0;bottom: 0;left: 50%;z-index: -1;}#sk-container-id-2 div.sk-parallel-item {display: flex;flex-direction: column;z-index: 1;position: relative;background-color: white;}#sk-container-id-2 div.sk-parallel-item:first-child::after {align-self: flex-end;width: 50%;}#sk-container-id-2 div.sk-parallel-item:last-child::after {align-self: flex-start;width: 50%;}#sk-container-id-2 div.sk-parallel-item:only-child::after {width: 0;}#sk-container-id-2 div.sk-dashed-wrapped {border: 1px dashed gray;margin: 0 0.4em 0.5em 0.4em;box-sizing: border-box;padding-bottom: 0.4em;background-color: white;}#sk-container-id-2 div.sk-label label {font-family: monospace;font-weight: bold;display: inline-block;line-height: 1.2em;}#sk-container-id-2 div.sk-label-container {text-align: center;}#sk-container-id-2 div.sk-container {/* jupyter's `normalize.less` sets `[hidden] { display: none; }` but bootstrap.min.css set `[hidden] { display: none !important; }` so we also need the `!important` here to be able to override the default hidden behavior on the sphinx rendered scikit-learn.org. See: https://github.com/scikit-learn/scikit-learn/issues/21755 */display: inline-block !important;position: relative;}#sk-container-id-2 div.sk-text-repr-fallback {display: none;}</style><div id=\"sk-container-id-2\" class=\"sk-top-container\"><div class=\"sk-text-repr-fallback\"><pre>LinearRegression()</pre><b>In a Jupyter environment, please rerun this cell to show the HTML representation or trust the notebook. <br />On GitHub, the HTML representation is unable to render, please try loading this page with nbviewer.org.</b></div><div class=\"sk-container\" hidden><div class=\"sk-item\"><div class=\"sk-estimator sk-toggleable\"><input class=\"sk-toggleable__control sk-hidden--visually\" id=\"sk-estimator-id-2\" type=\"checkbox\" checked><label for=\"sk-estimator-id-2\" class=\"sk-toggleable__label sk-toggleable__label-arrow\">LinearRegression</label><div class=\"sk-toggleable__content\"><pre>LinearRegression()</pre></div></div></div></div></div>"
      ],
      "text/plain": [
       "LinearRegression()"
      ]
     },
     "execution_count": 63,
     "metadata": {},
     "output_type": "execute_result"
    }
   ],
   "source": [
    "# Fitting linear model\n",
    "lin_reg_model2 = LinearRegression()\n",
    "lin_reg_model2.fit(x_train2, y_train)"
   ]
  },
  {
   "cell_type": "code",
   "execution_count": 64,
   "id": "cb432440",
   "metadata": {},
   "outputs": [
    {
     "name": "stdout",
     "output_type": "stream",
     "text": [
      "Training Performance:\n"
     ]
    },
    {
     "data": {
      "text/html": [
       "<div>\n",
       "<style scoped>\n",
       "    .dataframe tbody tr th:only-of-type {\n",
       "        vertical-align: middle;\n",
       "    }\n",
       "\n",
       "    .dataframe tbody tr th {\n",
       "        vertical-align: top;\n",
       "    }\n",
       "\n",
       "    .dataframe thead th {\n",
       "        text-align: right;\n",
       "    }\n",
       "</style>\n",
       "<table border=\"1\" class=\"dataframe\">\n",
       "  <thead>\n",
       "    <tr style=\"text-align: right;\">\n",
       "      <th></th>\n",
       "      <th>RMSE</th>\n",
       "      <th>MAE</th>\n",
       "      <th>R-squared</th>\n",
       "      <th>Adj. R-squared</th>\n",
       "    </tr>\n",
       "  </thead>\n",
       "  <tbody>\n",
       "    <tr>\n",
       "      <th>0</th>\n",
       "      <td>5.72111</td>\n",
       "      <td>3.101774</td>\n",
       "      <td>0.709159</td>\n",
       "      <td>0.708944</td>\n",
       "    </tr>\n",
       "  </tbody>\n",
       "</table>\n",
       "</div>"
      ],
      "text/plain": [
       "      RMSE       MAE  R-squared  Adj. R-squared\n",
       "0  5.72111  3.101774   0.709159        0.708944"
      ]
     },
     "execution_count": 64,
     "metadata": {},
     "output_type": "execute_result"
    }
   ],
   "source": [
    "# model performance on train set\n",
    "print(\"Training Performance:\")\n",
    "lin_reg_model2_perf_train = model_performance_regression(\n",
    "    lin_reg_model2, x_train2, y_train\n",
    ")\n",
    "lin_reg_model2_perf_train"
   ]
  },
  {
   "cell_type": "code",
   "execution_count": 65,
   "id": "ad819a03",
   "metadata": {},
   "outputs": [
    {
     "name": "stdout",
     "output_type": "stream",
     "text": [
      "Test Performance:\n"
     ]
    },
    {
     "data": {
      "text/html": [
       "<div>\n",
       "<style scoped>\n",
       "    .dataframe tbody tr th:only-of-type {\n",
       "        vertical-align: middle;\n",
       "    }\n",
       "\n",
       "    .dataframe tbody tr th {\n",
       "        vertical-align: top;\n",
       "    }\n",
       "\n",
       "    .dataframe thead th {\n",
       "        text-align: right;\n",
       "    }\n",
       "</style>\n",
       "<table border=\"1\" class=\"dataframe\">\n",
       "  <thead>\n",
       "    <tr style=\"text-align: right;\">\n",
       "      <th></th>\n",
       "      <th>RMSE</th>\n",
       "      <th>MAE</th>\n",
       "      <th>R-squared</th>\n",
       "      <th>Adj. R-squared</th>\n",
       "    </tr>\n",
       "  </thead>\n",
       "  <tbody>\n",
       "    <tr>\n",
       "      <th>0</th>\n",
       "      <td>5.737561</td>\n",
       "      <td>3.206005</td>\n",
       "      <td>0.731919</td>\n",
       "      <td>0.731323</td>\n",
       "    </tr>\n",
       "  </tbody>\n",
       "</table>\n",
       "</div>"
      ],
      "text/plain": [
       "       RMSE       MAE  R-squared  Adj. R-squared\n",
       "0  5.737561  3.206005   0.731919        0.731323"
      ]
     },
     "execution_count": 65,
     "metadata": {},
     "output_type": "execute_result"
    }
   ],
   "source": [
    "# model performance on test set\n",
    "print(\"Test Performance:\")\n",
    "lin_reg_model2_perf_test = model_performance_regression(lin_reg_model2, x_test2, y_test)\n",
    "lin_reg_model2_perf_test"
   ]
  },
  {
   "cell_type": "code",
   "execution_count": 66,
   "id": "1d5804c9",
   "metadata": {},
   "outputs": [
    {
     "name": "stdout",
     "output_type": "stream",
     "text": [
      "Training performance comparison:\n"
     ]
    },
    {
     "data": {
      "text/html": [
       "<div>\n",
       "<style scoped>\n",
       "    .dataframe tbody tr th:only-of-type {\n",
       "        vertical-align: middle;\n",
       "    }\n",
       "\n",
       "    .dataframe tbody tr th {\n",
       "        vertical-align: top;\n",
       "    }\n",
       "\n",
       "    .dataframe thead th {\n",
       "        text-align: right;\n",
       "    }\n",
       "</style>\n",
       "<table border=\"1\" class=\"dataframe\">\n",
       "  <thead>\n",
       "    <tr style=\"text-align: right;\">\n",
       "      <th></th>\n",
       "      <th>Linear Regression sklearn</th>\n",
       "      <th>Linear Regression sklearn (SFS features)</th>\n",
       "    </tr>\n",
       "  </thead>\n",
       "  <tbody>\n",
       "    <tr>\n",
       "      <th>RMSE</th>\n",
       "      <td>5.675895</td>\n",
       "      <td>5.721110</td>\n",
       "    </tr>\n",
       "    <tr>\n",
       "      <th>MAE</th>\n",
       "      <td>3.088902</td>\n",
       "      <td>3.101774</td>\n",
       "    </tr>\n",
       "    <tr>\n",
       "      <th>R-squared</th>\n",
       "      <td>0.713738</td>\n",
       "      <td>0.709159</td>\n",
       "    </tr>\n",
       "    <tr>\n",
       "      <th>Adj. R-squared</th>\n",
       "      <td>0.713154</td>\n",
       "      <td>0.708944</td>\n",
       "    </tr>\n",
       "  </tbody>\n",
       "</table>\n",
       "</div>"
      ],
      "text/plain": [
       "                Linear Regression sklearn  \\\n",
       "RMSE                             5.675895   \n",
       "MAE                              3.088902   \n",
       "R-squared                        0.713738   \n",
       "Adj. R-squared                   0.713154   \n",
       "\n",
       "                Linear Regression sklearn (SFS features)  \n",
       "RMSE                                            5.721110  \n",
       "MAE                                             3.101774  \n",
       "R-squared                                       0.709159  \n",
       "Adj. R-squared                                  0.708944  "
      ]
     },
     "execution_count": 66,
     "metadata": {},
     "output_type": "execute_result"
    }
   ],
   "source": [
    "# training performance comparison\n",
    "\n",
    "models_train_comp_df = pd.concat(\n",
    "    [lin_reg_model_perf_train.T, lin_reg_model2_perf_train.T], axis=1,\n",
    ")\n",
    "\n",
    "models_train_comp_df.columns = [\n",
    "    \"Linear Regression sklearn\",\n",
    "    \"Linear Regression sklearn (SFS features)\",\n",
    "]\n",
    "\n",
    "print(\"Training performance comparison:\")\n",
    "models_train_comp_df"
   ]
  },
  {
   "cell_type": "code",
   "execution_count": 67,
   "id": "8959c564",
   "metadata": {},
   "outputs": [
    {
     "name": "stdout",
     "output_type": "stream",
     "text": [
      "Test performance comparison:\n"
     ]
    },
    {
     "data": {
      "text/html": [
       "<div>\n",
       "<style scoped>\n",
       "    .dataframe tbody tr th:only-of-type {\n",
       "        vertical-align: middle;\n",
       "    }\n",
       "\n",
       "    .dataframe tbody tr th {\n",
       "        vertical-align: top;\n",
       "    }\n",
       "\n",
       "    .dataframe thead th {\n",
       "        text-align: right;\n",
       "    }\n",
       "</style>\n",
       "<table border=\"1\" class=\"dataframe\">\n",
       "  <thead>\n",
       "    <tr style=\"text-align: right;\">\n",
       "      <th></th>\n",
       "      <th>Linear Regression sklearn</th>\n",
       "      <th>Linear Regression sklearn (SFS features)</th>\n",
       "    </tr>\n",
       "  </thead>\n",
       "  <tbody>\n",
       "    <tr>\n",
       "      <th>RMSE</th>\n",
       "      <td>5.668496</td>\n",
       "      <td>5.737561</td>\n",
       "    </tr>\n",
       "    <tr>\n",
       "      <th>MAE</th>\n",
       "      <td>3.192485</td>\n",
       "      <td>3.206005</td>\n",
       "    </tr>\n",
       "    <tr>\n",
       "      <th>R-squared</th>\n",
       "      <td>0.738335</td>\n",
       "      <td>0.731919</td>\n",
       "    </tr>\n",
       "    <tr>\n",
       "      <th>Adj. R-squared</th>\n",
       "      <td>0.736727</td>\n",
       "      <td>0.731323</td>\n",
       "    </tr>\n",
       "  </tbody>\n",
       "</table>\n",
       "</div>"
      ],
      "text/plain": [
       "                Linear Regression sklearn  \\\n",
       "RMSE                             5.668496   \n",
       "MAE                              3.192485   \n",
       "R-squared                        0.738335   \n",
       "Adj. R-squared                   0.736727   \n",
       "\n",
       "                Linear Regression sklearn (SFS features)  \n",
       "RMSE                                            5.737561  \n",
       "MAE                                             3.206005  \n",
       "R-squared                                       0.731919  \n",
       "Adj. R-squared                                  0.731323  "
      ]
     },
     "execution_count": 67,
     "metadata": {},
     "output_type": "execute_result"
    }
   ],
   "source": [
    "# test performance comparison\n",
    "\n",
    "models_test_comp_df = pd.concat(\n",
    "    [lin_reg_model_perf_test.T, lin_reg_model2_perf_test.T], axis=1,\n",
    ")\n",
    "\n",
    "models_test_comp_df.columns = [\n",
    "    \"Linear Regression sklearn\",\n",
    "    \"Linear Regression sklearn (SFS features)\",\n",
    "]\n",
    "\n",
    "print(\"Test performance comparison:\")\n",
    "models_test_comp_df"
   ]
  },
  {
   "cell_type": "markdown",
   "id": "d9b2e2c1",
   "metadata": {},
   "source": [
    "### Insights\n",
    "\n",
    "+ We have a higher RMSE than MAE meaning there exists high errors in the predicted data interpreted as a larger variance magnitude in the results, \n",
    "+ based on the target variable, we have a safe RSME value indicating the model fits the data and can predict the data.\n",
    "+ 74% of the variability observed in the dependent variable is explained by the model "
   ]
  },
  {
   "cell_type": "markdown",
   "id": "855d0058",
   "metadata": {},
   "source": [
    "## Recommendations\n",
    "Based on the analysis,\n",
    "+ The most important features in determining the price of the vehicle were the Engine, transmission type, price of a new vehicle and the amount of years the car has been in usage.\n",
    "+ Inorder to gain higher sales, the engine of the vehicle could be change or updated as it seems to be the most important feature based on the correlation matrix"
   ]
  }
 ],
 "metadata": {
  "kernelspec": {
   "display_name": "Python 3 (ipykernel)",
   "language": "python",
   "name": "python3"
  },
  "language_info": {
   "codemirror_mode": {
    "name": "ipython",
    "version": 3
   },
   "file_extension": ".py",
   "mimetype": "text/x-python",
   "name": "python",
   "nbconvert_exporter": "python",
   "pygments_lexer": "ipython3",
   "version": "3.9.7"
  }
 },
 "nbformat": 4,
 "nbformat_minor": 5
}
